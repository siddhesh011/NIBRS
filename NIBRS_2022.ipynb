{
 "cells": [
  {
   "cell_type": "code",
   "execution_count": 164,
   "metadata": {
    "id": "62FwQEdo0nTF"
   },
   "outputs": [],
   "source": [
    "#path = '/content/drive/MyDrive/NIBRS/agencies.csv'\n",
    "path = 'C:/NIBRS/2022/agencies.csv'"
   ]
  },
  {
   "cell_type": "code",
   "execution_count": 165,
   "metadata": {
    "id": "t-qBowU3nMsW"
   },
   "outputs": [],
   "source": [
    "import pandas as pd\n",
    "import numpy as np"
   ]
  },
  {
   "cell_type": "code",
   "execution_count": 166,
   "metadata": {
    "id": "Get-KDxQ2myk"
   },
   "outputs": [],
   "source": [
    "agencies = pd.read_csv(path)"
   ]
  },
  {
   "cell_type": "code",
   "execution_count": 167,
   "metadata": {
    "colab": {
     "base_uri": "https://localhost:8080/",
     "height": 386
    },
    "id": "eQwj2jQF2_E3",
    "outputId": "b6e054e4-7acc-40d9-e1e6-dd3b2ade195c"
   },
   "outputs": [
    {
     "data": {
      "text/html": [
       "<div>\n",
       "<style scoped>\n",
       "    .dataframe tbody tr th:only-of-type {\n",
       "        vertical-align: middle;\n",
       "    }\n",
       "\n",
       "    .dataframe tbody tr th {\n",
       "        vertical-align: top;\n",
       "    }\n",
       "\n",
       "    .dataframe thead th {\n",
       "        text-align: right;\n",
       "    }\n",
       "</style>\n",
       "<table border=\"1\" class=\"dataframe\">\n",
       "  <thead>\n",
       "    <tr style=\"text-align: right;\">\n",
       "      <th></th>\n",
       "      <th>yearly_agency_id</th>\n",
       "      <th>agency_id</th>\n",
       "      <th>data_year</th>\n",
       "      <th>ori</th>\n",
       "      <th>legacy_ori</th>\n",
       "      <th>covered_by_legacy_ori</th>\n",
       "      <th>direct_contributor_flag</th>\n",
       "      <th>dormant_flag</th>\n",
       "      <th>dormant_year</th>\n",
       "      <th>reporting_type</th>\n",
       "      <th>...</th>\n",
       "      <th>nibrs_leoka_start_date</th>\n",
       "      <th>nibrs_ct_start_date</th>\n",
       "      <th>nibrs_multi_bias_start_date</th>\n",
       "      <th>nibrs_off_eth_start_date</th>\n",
       "      <th>covered_flag</th>\n",
       "      <th>county_name</th>\n",
       "      <th>msa_name</th>\n",
       "      <th>publishable_flag</th>\n",
       "      <th>participated</th>\n",
       "      <th>nibrs_participated</th>\n",
       "    </tr>\n",
       "  </thead>\n",
       "  <tbody>\n",
       "    <tr>\n",
       "      <th>0</th>\n",
       "      <td>56882022</td>\n",
       "      <td>5688</td>\n",
       "      <td>2022</td>\n",
       "      <td>IN0020000</td>\n",
       "      <td>IN0020000</td>\n",
       "      <td>NaN</td>\n",
       "      <td>N</td>\n",
       "      <td>N</td>\n",
       "      <td>NaN</td>\n",
       "      <td>I</td>\n",
       "      <td>...</td>\n",
       "      <td>2020-09-01</td>\n",
       "      <td>2021-01-01</td>\n",
       "      <td>2021-01-01</td>\n",
       "      <td>2021-01-01</td>\n",
       "      <td>N</td>\n",
       "      <td>ALLEN</td>\n",
       "      <td>Fort Wayne, IN</td>\n",
       "      <td>Y</td>\n",
       "      <td>Y</td>\n",
       "      <td>Y</td>\n",
       "    </tr>\n",
       "    <tr>\n",
       "      <th>1</th>\n",
       "      <td>56892022</td>\n",
       "      <td>5689</td>\n",
       "      <td>2022</td>\n",
       "      <td>IN0020100</td>\n",
       "      <td>IN0020100</td>\n",
       "      <td>NaN</td>\n",
       "      <td>N</td>\n",
       "      <td>N</td>\n",
       "      <td>NaN</td>\n",
       "      <td>I</td>\n",
       "      <td>...</td>\n",
       "      <td>2020-09-01</td>\n",
       "      <td>2021-01-01</td>\n",
       "      <td>2021-01-01</td>\n",
       "      <td>2021-01-01</td>\n",
       "      <td>N</td>\n",
       "      <td>ALLEN</td>\n",
       "      <td>Fort Wayne, IN</td>\n",
       "      <td>Y</td>\n",
       "      <td>Y</td>\n",
       "      <td>Y</td>\n",
       "    </tr>\n",
       "    <tr>\n",
       "      <th>2</th>\n",
       "      <td>56902022</td>\n",
       "      <td>5690</td>\n",
       "      <td>2022</td>\n",
       "      <td>IN0020200</td>\n",
       "      <td>IN0020200</td>\n",
       "      <td>NaN</td>\n",
       "      <td>N</td>\n",
       "      <td>N</td>\n",
       "      <td>NaN</td>\n",
       "      <td>I</td>\n",
       "      <td>...</td>\n",
       "      <td>2020-09-01</td>\n",
       "      <td>2021-01-01</td>\n",
       "      <td>2021-01-01</td>\n",
       "      <td>2021-01-01</td>\n",
       "      <td>N</td>\n",
       "      <td>ALLEN</td>\n",
       "      <td>Fort Wayne, IN</td>\n",
       "      <td>Y</td>\n",
       "      <td>Y</td>\n",
       "      <td>Y</td>\n",
       "    </tr>\n",
       "    <tr>\n",
       "      <th>3</th>\n",
       "      <td>56912022</td>\n",
       "      <td>5691</td>\n",
       "      <td>2022</td>\n",
       "      <td>IN0030000</td>\n",
       "      <td>IN0030000</td>\n",
       "      <td>NaN</td>\n",
       "      <td>N</td>\n",
       "      <td>N</td>\n",
       "      <td>NaN</td>\n",
       "      <td>I</td>\n",
       "      <td>...</td>\n",
       "      <td>2020-11-01</td>\n",
       "      <td>2021-01-01</td>\n",
       "      <td>2021-01-01</td>\n",
       "      <td>2021-01-01</td>\n",
       "      <td>N</td>\n",
       "      <td>BARTHOLOMEW</td>\n",
       "      <td>Columbus, IN</td>\n",
       "      <td>Y</td>\n",
       "      <td>Y</td>\n",
       "      <td>Y</td>\n",
       "    </tr>\n",
       "    <tr>\n",
       "      <th>4</th>\n",
       "      <td>56952022</td>\n",
       "      <td>5695</td>\n",
       "      <td>2022</td>\n",
       "      <td>IN0050000</td>\n",
       "      <td>IN0050000</td>\n",
       "      <td>NaN</td>\n",
       "      <td>N</td>\n",
       "      <td>N</td>\n",
       "      <td>NaN</td>\n",
       "      <td>I</td>\n",
       "      <td>...</td>\n",
       "      <td>2019-01-01</td>\n",
       "      <td>2020-03-01</td>\n",
       "      <td>2020-03-01</td>\n",
       "      <td>2020-03-01</td>\n",
       "      <td>N</td>\n",
       "      <td>BLACKFORD</td>\n",
       "      <td>Not Specified</td>\n",
       "      <td>Y</td>\n",
       "      <td>Y</td>\n",
       "      <td>Y</td>\n",
       "    </tr>\n",
       "  </tbody>\n",
       "</table>\n",
       "<p>5 rows × 59 columns</p>\n",
       "</div>"
      ],
      "text/plain": [
       "   yearly_agency_id  agency_id  data_year        ori legacy_ori  \\\n",
       "0          56882022       5688       2022  IN0020000  IN0020000   \n",
       "1          56892022       5689       2022  IN0020100  IN0020100   \n",
       "2          56902022       5690       2022  IN0020200  IN0020200   \n",
       "3          56912022       5691       2022  IN0030000  IN0030000   \n",
       "4          56952022       5695       2022  IN0050000  IN0050000   \n",
       "\n",
       "   covered_by_legacy_ori direct_contributor_flag dormant_flag  dormant_year  \\\n",
       "0                    NaN                       N            N           NaN   \n",
       "1                    NaN                       N            N           NaN   \n",
       "2                    NaN                       N            N           NaN   \n",
       "3                    NaN                       N            N           NaN   \n",
       "4                    NaN                       N            N           NaN   \n",
       "\n",
       "  reporting_type  ... nibrs_leoka_start_date nibrs_ct_start_date  \\\n",
       "0              I  ...             2020-09-01          2021-01-01   \n",
       "1              I  ...             2020-09-01          2021-01-01   \n",
       "2              I  ...             2020-09-01          2021-01-01   \n",
       "3              I  ...             2020-11-01          2021-01-01   \n",
       "4              I  ...             2019-01-01          2020-03-01   \n",
       "\n",
       "  nibrs_multi_bias_start_date nibrs_off_eth_start_date covered_flag  \\\n",
       "0                  2021-01-01               2021-01-01            N   \n",
       "1                  2021-01-01               2021-01-01            N   \n",
       "2                  2021-01-01               2021-01-01            N   \n",
       "3                  2021-01-01               2021-01-01            N   \n",
       "4                  2020-03-01               2020-03-01            N   \n",
       "\n",
       "   county_name        msa_name publishable_flag participated  \\\n",
       "0        ALLEN  Fort Wayne, IN                Y            Y   \n",
       "1        ALLEN  Fort Wayne, IN                Y            Y   \n",
       "2        ALLEN  Fort Wayne, IN                Y            Y   \n",
       "3  BARTHOLOMEW    Columbus, IN                Y            Y   \n",
       "4    BLACKFORD   Not Specified                Y            Y   \n",
       "\n",
       "   nibrs_participated  \n",
       "0                   Y  \n",
       "1                   Y  \n",
       "2                   Y  \n",
       "3                   Y  \n",
       "4                   Y  \n",
       "\n",
       "[5 rows x 59 columns]"
      ]
     },
     "execution_count": 167,
     "metadata": {},
     "output_type": "execute_result"
    }
   ],
   "source": [
    "agencies.head()"
   ]
  },
  {
   "cell_type": "code",
   "execution_count": 168,
   "metadata": {
    "id": "46SxsRCeno6_"
   },
   "outputs": [],
   "source": [
    "agencies_final = agencies[['agency_id','county_name']]"
   ]
  },
  {
   "cell_type": "code",
   "execution_count": 169,
   "metadata": {
    "colab": {
     "base_uri": "https://localhost:8080/",
     "height": 206
    },
    "id": "mMj_xJpm4wme",
    "outputId": "e0847518-7f86-41ac-cf03-f40135a9752b"
   },
   "outputs": [
    {
     "data": {
      "text/html": [
       "<div>\n",
       "<style scoped>\n",
       "    .dataframe tbody tr th:only-of-type {\n",
       "        vertical-align: middle;\n",
       "    }\n",
       "\n",
       "    .dataframe tbody tr th {\n",
       "        vertical-align: top;\n",
       "    }\n",
       "\n",
       "    .dataframe thead th {\n",
       "        text-align: right;\n",
       "    }\n",
       "</style>\n",
       "<table border=\"1\" class=\"dataframe\">\n",
       "  <thead>\n",
       "    <tr style=\"text-align: right;\">\n",
       "      <th></th>\n",
       "      <th>agency_id</th>\n",
       "      <th>county_name</th>\n",
       "    </tr>\n",
       "  </thead>\n",
       "  <tbody>\n",
       "    <tr>\n",
       "      <th>0</th>\n",
       "      <td>5688</td>\n",
       "      <td>ALLEN</td>\n",
       "    </tr>\n",
       "    <tr>\n",
       "      <th>1</th>\n",
       "      <td>5689</td>\n",
       "      <td>ALLEN</td>\n",
       "    </tr>\n",
       "    <tr>\n",
       "      <th>2</th>\n",
       "      <td>5690</td>\n",
       "      <td>ALLEN</td>\n",
       "    </tr>\n",
       "    <tr>\n",
       "      <th>3</th>\n",
       "      <td>5691</td>\n",
       "      <td>BARTHOLOMEW</td>\n",
       "    </tr>\n",
       "    <tr>\n",
       "      <th>4</th>\n",
       "      <td>5695</td>\n",
       "      <td>BLACKFORD</td>\n",
       "    </tr>\n",
       "  </tbody>\n",
       "</table>\n",
       "</div>"
      ],
      "text/plain": [
       "   agency_id  county_name\n",
       "0       5688        ALLEN\n",
       "1       5689        ALLEN\n",
       "2       5690        ALLEN\n",
       "3       5691  BARTHOLOMEW\n",
       "4       5695    BLACKFORD"
      ]
     },
     "execution_count": 169,
     "metadata": {},
     "output_type": "execute_result"
    }
   ],
   "source": [
    "agencies_final.head()"
   ]
  },
  {
   "cell_type": "code",
   "execution_count": 170,
   "metadata": {
    "id": "9fCKXXNnJ12c"
   },
   "outputs": [],
   "source": [
    "path4 = 'C:/NIBRS/2022/NIBRS_VICTIM.csv'"
   ]
  },
  {
   "cell_type": "code",
   "execution_count": 171,
   "metadata": {
    "id": "2t1ed2T4J8h1"
   },
   "outputs": [],
   "source": [
    "victim = pd.read_csv(path4)"
   ]
  },
  {
   "cell_type": "code",
   "execution_count": 172,
   "metadata": {
    "colab": {
     "base_uri": "https://localhost:8080/",
     "height": 206
    },
    "id": "61JHePONJ-5P",
    "outputId": "dff480e5-b259-426b-b71c-958497052f53"
   },
   "outputs": [
    {
     "data": {
      "text/html": [
       "<div>\n",
       "<style scoped>\n",
       "    .dataframe tbody tr th:only-of-type {\n",
       "        vertical-align: middle;\n",
       "    }\n",
       "\n",
       "    .dataframe tbody tr th {\n",
       "        vertical-align: top;\n",
       "    }\n",
       "\n",
       "    .dataframe thead th {\n",
       "        text-align: right;\n",
       "    }\n",
       "</style>\n",
       "<table border=\"1\" class=\"dataframe\">\n",
       "  <thead>\n",
       "    <tr style=\"text-align: right;\">\n",
       "      <th></th>\n",
       "      <th>data_year</th>\n",
       "      <th>victim_id</th>\n",
       "      <th>incident_id</th>\n",
       "      <th>victim_seq_num</th>\n",
       "      <th>victim_type_id</th>\n",
       "      <th>assignment_type_id</th>\n",
       "      <th>activity_type_id</th>\n",
       "      <th>outside_agency_id</th>\n",
       "      <th>age_id</th>\n",
       "      <th>age_num</th>\n",
       "      <th>sex_code</th>\n",
       "      <th>race_id</th>\n",
       "      <th>ethnicity_id</th>\n",
       "      <th>resident_status_code</th>\n",
       "      <th>age_range_low_num</th>\n",
       "      <th>age_code_range_high</th>\n",
       "    </tr>\n",
       "  </thead>\n",
       "  <tbody>\n",
       "    <tr>\n",
       "      <th>0</th>\n",
       "      <td>2022</td>\n",
       "      <td>166275722</td>\n",
       "      <td>150665449</td>\n",
       "      <td>1</td>\n",
       "      <td>4</td>\n",
       "      <td>NaN</td>\n",
       "      <td>NaN</td>\n",
       "      <td>NaN</td>\n",
       "      <td>78</td>\n",
       "      <td>75</td>\n",
       "      <td>M</td>\n",
       "      <td>10</td>\n",
       "      <td>50</td>\n",
       "      <td>NaN</td>\n",
       "      <td>75.0</td>\n",
       "      <td>NaN</td>\n",
       "    </tr>\n",
       "    <tr>\n",
       "      <th>1</th>\n",
       "      <td>2022</td>\n",
       "      <td>166275620</td>\n",
       "      <td>150665362</td>\n",
       "      <td>1</td>\n",
       "      <td>4</td>\n",
       "      <td>NaN</td>\n",
       "      <td>NaN</td>\n",
       "      <td>NaN</td>\n",
       "      <td>64</td>\n",
       "      <td>61</td>\n",
       "      <td>M</td>\n",
       "      <td>10</td>\n",
       "      <td>50</td>\n",
       "      <td>NaN</td>\n",
       "      <td>61.0</td>\n",
       "      <td>NaN</td>\n",
       "    </tr>\n",
       "    <tr>\n",
       "      <th>2</th>\n",
       "      <td>2022</td>\n",
       "      <td>166275780</td>\n",
       "      <td>150665492</td>\n",
       "      <td>1</td>\n",
       "      <td>4</td>\n",
       "      <td>NaN</td>\n",
       "      <td>NaN</td>\n",
       "      <td>NaN</td>\n",
       "      <td>46</td>\n",
       "      <td>43</td>\n",
       "      <td>F</td>\n",
       "      <td>10</td>\n",
       "      <td>50</td>\n",
       "      <td>NaN</td>\n",
       "      <td>43.0</td>\n",
       "      <td>NaN</td>\n",
       "    </tr>\n",
       "    <tr>\n",
       "      <th>3</th>\n",
       "      <td>2022</td>\n",
       "      <td>166275615</td>\n",
       "      <td>150665358</td>\n",
       "      <td>1</td>\n",
       "      <td>5</td>\n",
       "      <td>7.0</td>\n",
       "      <td>1.0</td>\n",
       "      <td>NaN</td>\n",
       "      <td>44</td>\n",
       "      <td>41</td>\n",
       "      <td>F</td>\n",
       "      <td>20</td>\n",
       "      <td>50</td>\n",
       "      <td>NaN</td>\n",
       "      <td>41.0</td>\n",
       "      <td>NaN</td>\n",
       "    </tr>\n",
       "    <tr>\n",
       "      <th>4</th>\n",
       "      <td>2022</td>\n",
       "      <td>166275652</td>\n",
       "      <td>150665387</td>\n",
       "      <td>1</td>\n",
       "      <td>4</td>\n",
       "      <td>NaN</td>\n",
       "      <td>NaN</td>\n",
       "      <td>NaN</td>\n",
       "      <td>31</td>\n",
       "      <td>28</td>\n",
       "      <td>M</td>\n",
       "      <td>20</td>\n",
       "      <td>20</td>\n",
       "      <td>NaN</td>\n",
       "      <td>28.0</td>\n",
       "      <td>NaN</td>\n",
       "    </tr>\n",
       "  </tbody>\n",
       "</table>\n",
       "</div>"
      ],
      "text/plain": [
       "   data_year  victim_id  incident_id  victim_seq_num  victim_type_id  \\\n",
       "0       2022  166275722    150665449               1               4   \n",
       "1       2022  166275620    150665362               1               4   \n",
       "2       2022  166275780    150665492               1               4   \n",
       "3       2022  166275615    150665358               1               5   \n",
       "4       2022  166275652    150665387               1               4   \n",
       "\n",
       "   assignment_type_id  activity_type_id  outside_agency_id  age_id age_num  \\\n",
       "0                 NaN               NaN                NaN      78      75   \n",
       "1                 NaN               NaN                NaN      64      61   \n",
       "2                 NaN               NaN                NaN      46      43   \n",
       "3                 7.0               1.0                NaN      44      41   \n",
       "4                 NaN               NaN                NaN      31      28   \n",
       "\n",
       "  sex_code  race_id  ethnicity_id resident_status_code  age_range_low_num  \\\n",
       "0        M       10            50                  NaN               75.0   \n",
       "1        M       10            50                  NaN               61.0   \n",
       "2        F       10            50                  NaN               43.0   \n",
       "3        F       20            50                  NaN               41.0   \n",
       "4        M       20            20                  NaN               28.0   \n",
       "\n",
       "   age_code_range_high  \n",
       "0                  NaN  \n",
       "1                  NaN  \n",
       "2                  NaN  \n",
       "3                  NaN  \n",
       "4                  NaN  "
      ]
     },
     "execution_count": 172,
     "metadata": {},
     "output_type": "execute_result"
    }
   ],
   "source": [
    "victim.head()"
   ]
  },
  {
   "cell_type": "code",
   "execution_count": 173,
   "metadata": {
    "id": "D3a_annwvFgC"
   },
   "outputs": [],
   "source": [
    "victim_final = victim[['victim_id','incident_id','age_num']]"
   ]
  },
  {
   "cell_type": "code",
   "execution_count": 174,
   "metadata": {
    "colab": {
     "base_uri": "https://localhost:8080/",
     "height": 206
    },
    "id": "cCDbqncNKpHF",
    "outputId": "90024319-1654-4c74-e752-3878865e632e"
   },
   "outputs": [
    {
     "data": {
      "text/html": [
       "<div>\n",
       "<style scoped>\n",
       "    .dataframe tbody tr th:only-of-type {\n",
       "        vertical-align: middle;\n",
       "    }\n",
       "\n",
       "    .dataframe tbody tr th {\n",
       "        vertical-align: top;\n",
       "    }\n",
       "\n",
       "    .dataframe thead th {\n",
       "        text-align: right;\n",
       "    }\n",
       "</style>\n",
       "<table border=\"1\" class=\"dataframe\">\n",
       "  <thead>\n",
       "    <tr style=\"text-align: right;\">\n",
       "      <th></th>\n",
       "      <th>victim_id</th>\n",
       "      <th>incident_id</th>\n",
       "      <th>age_num</th>\n",
       "    </tr>\n",
       "  </thead>\n",
       "  <tbody>\n",
       "    <tr>\n",
       "      <th>0</th>\n",
       "      <td>166275722</td>\n",
       "      <td>150665449</td>\n",
       "      <td>75</td>\n",
       "    </tr>\n",
       "    <tr>\n",
       "      <th>1</th>\n",
       "      <td>166275620</td>\n",
       "      <td>150665362</td>\n",
       "      <td>61</td>\n",
       "    </tr>\n",
       "    <tr>\n",
       "      <th>2</th>\n",
       "      <td>166275780</td>\n",
       "      <td>150665492</td>\n",
       "      <td>43</td>\n",
       "    </tr>\n",
       "    <tr>\n",
       "      <th>3</th>\n",
       "      <td>166275615</td>\n",
       "      <td>150665358</td>\n",
       "      <td>41</td>\n",
       "    </tr>\n",
       "    <tr>\n",
       "      <th>4</th>\n",
       "      <td>166275652</td>\n",
       "      <td>150665387</td>\n",
       "      <td>28</td>\n",
       "    </tr>\n",
       "  </tbody>\n",
       "</table>\n",
       "</div>"
      ],
      "text/plain": [
       "   victim_id  incident_id age_num\n",
       "0  166275722    150665449      75\n",
       "1  166275620    150665362      61\n",
       "2  166275780    150665492      43\n",
       "3  166275615    150665358      41\n",
       "4  166275652    150665387      28"
      ]
     },
     "execution_count": 174,
     "metadata": {},
     "output_type": "execute_result"
    }
   ],
   "source": [
    "victim_final.head()"
   ]
  },
  {
   "cell_type": "code",
   "execution_count": 175,
   "metadata": {
    "id": "WllcOtwG413x"
   },
   "outputs": [],
   "source": [
    "path2 = 'C:/NIBRS/2022/NIBRS_OFFENSE.csv'"
   ]
  },
  {
   "cell_type": "code",
   "execution_count": 176,
   "metadata": {
    "id": "S4KjCsle5yKo"
   },
   "outputs": [],
   "source": [
    "offense = pd.read_csv(path2)"
   ]
  },
  {
   "cell_type": "code",
   "execution_count": 177,
   "metadata": {
    "colab": {
     "base_uri": "https://localhost:8080/",
     "height": 206
    },
    "id": "glRd3qc152Rl",
    "outputId": "ba2c64c4-1ba8-4660-b836-e2d535a34e08"
   },
   "outputs": [
    {
     "data": {
      "text/html": [
       "<div>\n",
       "<style scoped>\n",
       "    .dataframe tbody tr th:only-of-type {\n",
       "        vertical-align: middle;\n",
       "    }\n",
       "\n",
       "    .dataframe tbody tr th {\n",
       "        vertical-align: top;\n",
       "    }\n",
       "\n",
       "    .dataframe thead th {\n",
       "        text-align: right;\n",
       "    }\n",
       "</style>\n",
       "<table border=\"1\" class=\"dataframe\">\n",
       "  <thead>\n",
       "    <tr style=\"text-align: right;\">\n",
       "      <th></th>\n",
       "      <th>data_year</th>\n",
       "      <th>offense_id</th>\n",
       "      <th>incident_id</th>\n",
       "      <th>offense_code</th>\n",
       "      <th>attempt_complete_flag</th>\n",
       "      <th>location_id</th>\n",
       "      <th>num_premises_entered</th>\n",
       "      <th>method_entry_code</th>\n",
       "    </tr>\n",
       "  </thead>\n",
       "  <tbody>\n",
       "    <tr>\n",
       "      <th>0</th>\n",
       "      <td>2022</td>\n",
       "      <td>180591817</td>\n",
       "      <td>150665449</td>\n",
       "      <td>220</td>\n",
       "      <td>C</td>\n",
       "      <td>35</td>\n",
       "      <td>NaN</td>\n",
       "      <td>F</td>\n",
       "    </tr>\n",
       "    <tr>\n",
       "      <th>1</th>\n",
       "      <td>2022</td>\n",
       "      <td>180591717</td>\n",
       "      <td>150665362</td>\n",
       "      <td>13B</td>\n",
       "      <td>C</td>\n",
       "      <td>35</td>\n",
       "      <td>NaN</td>\n",
       "      <td>NaN</td>\n",
       "    </tr>\n",
       "    <tr>\n",
       "      <th>2</th>\n",
       "      <td>2022</td>\n",
       "      <td>180591869</td>\n",
       "      <td>150665492</td>\n",
       "      <td>13C</td>\n",
       "      <td>C</td>\n",
       "      <td>35</td>\n",
       "      <td>NaN</td>\n",
       "      <td>NaN</td>\n",
       "    </tr>\n",
       "    <tr>\n",
       "      <th>3</th>\n",
       "      <td>2022</td>\n",
       "      <td>180591712</td>\n",
       "      <td>150665358</td>\n",
       "      <td>13B</td>\n",
       "      <td>C</td>\n",
       "      <td>35</td>\n",
       "      <td>NaN</td>\n",
       "      <td>NaN</td>\n",
       "    </tr>\n",
       "    <tr>\n",
       "      <th>4</th>\n",
       "      <td>2022</td>\n",
       "      <td>180591748</td>\n",
       "      <td>150665387</td>\n",
       "      <td>23G</td>\n",
       "      <td>C</td>\n",
       "      <td>35</td>\n",
       "      <td>NaN</td>\n",
       "      <td>NaN</td>\n",
       "    </tr>\n",
       "  </tbody>\n",
       "</table>\n",
       "</div>"
      ],
      "text/plain": [
       "   data_year  offense_id  incident_id offense_code attempt_complete_flag  \\\n",
       "0       2022   180591817    150665449          220                     C   \n",
       "1       2022   180591717    150665362          13B                     C   \n",
       "2       2022   180591869    150665492          13C                     C   \n",
       "3       2022   180591712    150665358          13B                     C   \n",
       "4       2022   180591748    150665387          23G                     C   \n",
       "\n",
       "   location_id  num_premises_entered method_entry_code  \n",
       "0           35                   NaN                 F  \n",
       "1           35                   NaN               NaN  \n",
       "2           35                   NaN               NaN  \n",
       "3           35                   NaN               NaN  \n",
       "4           35                   NaN               NaN  "
      ]
     },
     "execution_count": 177,
     "metadata": {},
     "output_type": "execute_result"
    }
   ],
   "source": [
    "offense.head()"
   ]
  },
  {
   "cell_type": "code",
   "execution_count": 178,
   "metadata": {
    "id": "L91L7qAq54Hm"
   },
   "outputs": [],
   "source": [
    "offense_final = offense[[\"offense_id\",'offense_code','incident_id']]"
   ]
  },
  {
   "cell_type": "code",
   "execution_count": 179,
   "metadata": {
    "colab": {
     "base_uri": "https://localhost:8080/",
     "height": 206
    },
    "id": "IXYElCot6szC",
    "outputId": "29e95044-f69b-489d-fb25-4e85fd888a98"
   },
   "outputs": [
    {
     "data": {
      "text/html": [
       "<div>\n",
       "<style scoped>\n",
       "    .dataframe tbody tr th:only-of-type {\n",
       "        vertical-align: middle;\n",
       "    }\n",
       "\n",
       "    .dataframe tbody tr th {\n",
       "        vertical-align: top;\n",
       "    }\n",
       "\n",
       "    .dataframe thead th {\n",
       "        text-align: right;\n",
       "    }\n",
       "</style>\n",
       "<table border=\"1\" class=\"dataframe\">\n",
       "  <thead>\n",
       "    <tr style=\"text-align: right;\">\n",
       "      <th></th>\n",
       "      <th>offense_id</th>\n",
       "      <th>offense_code</th>\n",
       "      <th>incident_id</th>\n",
       "    </tr>\n",
       "  </thead>\n",
       "  <tbody>\n",
       "    <tr>\n",
       "      <th>0</th>\n",
       "      <td>180591817</td>\n",
       "      <td>220</td>\n",
       "      <td>150665449</td>\n",
       "    </tr>\n",
       "    <tr>\n",
       "      <th>1</th>\n",
       "      <td>180591717</td>\n",
       "      <td>13B</td>\n",
       "      <td>150665362</td>\n",
       "    </tr>\n",
       "    <tr>\n",
       "      <th>2</th>\n",
       "      <td>180591869</td>\n",
       "      <td>13C</td>\n",
       "      <td>150665492</td>\n",
       "    </tr>\n",
       "    <tr>\n",
       "      <th>3</th>\n",
       "      <td>180591712</td>\n",
       "      <td>13B</td>\n",
       "      <td>150665358</td>\n",
       "    </tr>\n",
       "    <tr>\n",
       "      <th>4</th>\n",
       "      <td>180591748</td>\n",
       "      <td>23G</td>\n",
       "      <td>150665387</td>\n",
       "    </tr>\n",
       "  </tbody>\n",
       "</table>\n",
       "</div>"
      ],
      "text/plain": [
       "   offense_id offense_code  incident_id\n",
       "0   180591817          220    150665449\n",
       "1   180591717          13B    150665362\n",
       "2   180591869          13C    150665492\n",
       "3   180591712          13B    150665358\n",
       "4   180591748          23G    150665387"
      ]
     },
     "execution_count": 179,
     "metadata": {},
     "output_type": "execute_result"
    }
   ],
   "source": [
    "offense_final.head()"
   ]
  },
  {
   "cell_type": "code",
   "execution_count": 180,
   "metadata": {
    "id": "ThuNZFA56Akm"
   },
   "outputs": [],
   "source": [
    "path8 = 'C:/NIBRS/2022/population.csv'"
   ]
  },
  {
   "cell_type": "code",
   "execution_count": 181,
   "metadata": {
    "id": "ftXEOVVz6E9H"
   },
   "outputs": [],
   "source": [
    "population = pd.read_csv(path8)"
   ]
  },
  {
   "cell_type": "code",
   "execution_count": 182,
   "metadata": {
    "colab": {
     "base_uri": "https://localhost:8080/",
     "height": 300
    },
    "id": "OjJWDuCj6HOQ",
    "outputId": "cc0d0ca6-e415-4cfc-eb51-a394327679bc"
   },
   "outputs": [
    {
     "data": {
      "text/html": [
       "<div>\n",
       "<style scoped>\n",
       "    .dataframe tbody tr th:only-of-type {\n",
       "        vertical-align: middle;\n",
       "    }\n",
       "\n",
       "    .dataframe tbody tr th {\n",
       "        vertical-align: top;\n",
       "    }\n",
       "\n",
       "    .dataframe thead th {\n",
       "        text-align: right;\n",
       "    }\n",
       "</style>\n",
       "<table border=\"1\" class=\"dataframe\">\n",
       "  <thead>\n",
       "    <tr style=\"text-align: right;\">\n",
       "      <th></th>\n",
       "      <th>county_name</th>\n",
       "      <th>Total:</th>\n",
       "      <th>55+</th>\n",
       "    </tr>\n",
       "  </thead>\n",
       "  <tbody>\n",
       "    <tr>\n",
       "      <th>0</th>\n",
       "      <td>BOONE</td>\n",
       "      <td>69,839</td>\n",
       "      <td>18305</td>\n",
       "    </tr>\n",
       "    <tr>\n",
       "      <th>1</th>\n",
       "      <td>HAMILTON</td>\n",
       "      <td>341,616</td>\n",
       "      <td>83101</td>\n",
       "    </tr>\n",
       "    <tr>\n",
       "      <th>2</th>\n",
       "      <td>HANCOCK</td>\n",
       "      <td>78,616</td>\n",
       "      <td>23357</td>\n",
       "    </tr>\n",
       "    <tr>\n",
       "      <th>3</th>\n",
       "      <td>HENDRICKS</td>\n",
       "      <td>172,100</td>\n",
       "      <td>45241</td>\n",
       "    </tr>\n",
       "    <tr>\n",
       "      <th>4</th>\n",
       "      <td>JOHNSON</td>\n",
       "      <td>159,739</td>\n",
       "      <td>42987</td>\n",
       "    </tr>\n",
       "    <tr>\n",
       "      <th>5</th>\n",
       "      <td>MARION</td>\n",
       "      <td>969,542</td>\n",
       "      <td>237183</td>\n",
       "    </tr>\n",
       "    <tr>\n",
       "      <th>6</th>\n",
       "      <td>MORGAN</td>\n",
       "      <td>71,394</td>\n",
       "      <td>22957</td>\n",
       "    </tr>\n",
       "    <tr>\n",
       "      <th>7</th>\n",
       "      <td>SHELBY</td>\n",
       "      <td>44,825</td>\n",
       "      <td>14273</td>\n",
       "    </tr>\n",
       "  </tbody>\n",
       "</table>\n",
       "</div>"
      ],
      "text/plain": [
       "  county_name   Total:     55+\n",
       "0       BOONE   69,839   18305\n",
       "1    HAMILTON  341,616   83101\n",
       "2     HANCOCK   78,616   23357\n",
       "3   HENDRICKS  172,100   45241\n",
       "4     JOHNSON  159,739   42987\n",
       "5      MARION  969,542  237183\n",
       "6      MORGAN   71,394   22957\n",
       "7      SHELBY   44,825   14273"
      ]
     },
     "execution_count": 182,
     "metadata": {},
     "output_type": "execute_result"
    }
   ],
   "source": [
    "population"
   ]
  },
  {
   "cell_type": "code",
   "execution_count": 183,
   "metadata": {
    "id": "3Zd16FL96udc"
   },
   "outputs": [],
   "source": [
    "path3 = 'C:/NIBRS/2022/NIBRS_incident.csv'"
   ]
  },
  {
   "cell_type": "code",
   "execution_count": 184,
   "metadata": {
    "id": "w-wkpi__6135"
   },
   "outputs": [],
   "source": [
    "incident = pd.read_csv(path3)"
   ]
  },
  {
   "cell_type": "code",
   "execution_count": 185,
   "metadata": {
    "colab": {
     "base_uri": "https://localhost:8080/",
     "height": 357
    },
    "id": "SFIxdNqW667_",
    "outputId": "2c1d3f9b-342c-46bd-a471-2611f04be009"
   },
   "outputs": [
    {
     "data": {
      "text/html": [
       "<div>\n",
       "<style scoped>\n",
       "    .dataframe tbody tr th:only-of-type {\n",
       "        vertical-align: middle;\n",
       "    }\n",
       "\n",
       "    .dataframe tbody tr th {\n",
       "        vertical-align: top;\n",
       "    }\n",
       "\n",
       "    .dataframe thead th {\n",
       "        text-align: right;\n",
       "    }\n",
       "</style>\n",
       "<table border=\"1\" class=\"dataframe\">\n",
       "  <thead>\n",
       "    <tr style=\"text-align: right;\">\n",
       "      <th></th>\n",
       "      <th>data_year</th>\n",
       "      <th>agency_id</th>\n",
       "      <th>incident_id</th>\n",
       "      <th>nibrs_month_id</th>\n",
       "      <th>cargo_theft_flag</th>\n",
       "      <th>submission_date</th>\n",
       "      <th>incident_date</th>\n",
       "      <th>report_date_flag</th>\n",
       "      <th>incident_hour</th>\n",
       "      <th>cleared_except_id</th>\n",
       "      <th>cleared_except_date</th>\n",
       "      <th>incident_status</th>\n",
       "      <th>data_home</th>\n",
       "      <th>orig_format</th>\n",
       "      <th>did</th>\n",
       "    </tr>\n",
       "  </thead>\n",
       "  <tbody>\n",
       "    <tr>\n",
       "      <th>0</th>\n",
       "      <td>2022</td>\n",
       "      <td>5688</td>\n",
       "      <td>150665449</td>\n",
       "      <td>44070783</td>\n",
       "      <td>f</td>\n",
       "      <td>2022-03-14 10:08:45.251</td>\n",
       "      <td>2022-01-01</td>\n",
       "      <td>f</td>\n",
       "      <td>13</td>\n",
       "      <td>6</td>\n",
       "      <td>NaN</td>\n",
       "      <td>ACCEPTED</td>\n",
       "      <td>NaN</td>\n",
       "      <td>F</td>\n",
       "      <td>134214216</td>\n",
       "    </tr>\n",
       "    <tr>\n",
       "      <th>1</th>\n",
       "      <td>2022</td>\n",
       "      <td>5688</td>\n",
       "      <td>150665362</td>\n",
       "      <td>44070783</td>\n",
       "      <td>f</td>\n",
       "      <td>2022-03-14 10:08:44.767</td>\n",
       "      <td>2022-01-01</td>\n",
       "      <td>f</td>\n",
       "      <td>15</td>\n",
       "      <td>6</td>\n",
       "      <td>NaN</td>\n",
       "      <td>ACCEPTED</td>\n",
       "      <td>NaN</td>\n",
       "      <td>F</td>\n",
       "      <td>134214020</td>\n",
       "    </tr>\n",
       "    <tr>\n",
       "      <th>2</th>\n",
       "      <td>2022</td>\n",
       "      <td>5688</td>\n",
       "      <td>150665492</td>\n",
       "      <td>44070783</td>\n",
       "      <td>f</td>\n",
       "      <td>2022-03-14 10:08:45.543</td>\n",
       "      <td>2022-01-01</td>\n",
       "      <td>f</td>\n",
       "      <td>22</td>\n",
       "      <td>6</td>\n",
       "      <td>NaN</td>\n",
       "      <td>ACCEPTED</td>\n",
       "      <td>NaN</td>\n",
       "      <td>F</td>\n",
       "      <td>134214312</td>\n",
       "    </tr>\n",
       "    <tr>\n",
       "      <th>3</th>\n",
       "      <td>2022</td>\n",
       "      <td>5688</td>\n",
       "      <td>150665358</td>\n",
       "      <td>44070783</td>\n",
       "      <td>f</td>\n",
       "      <td>2022-03-14 10:08:44.732</td>\n",
       "      <td>2022-01-01</td>\n",
       "      <td>f</td>\n",
       "      <td>22</td>\n",
       "      <td>6</td>\n",
       "      <td>NaN</td>\n",
       "      <td>ACCEPTED</td>\n",
       "      <td>NaN</td>\n",
       "      <td>F</td>\n",
       "      <td>134213999</td>\n",
       "    </tr>\n",
       "    <tr>\n",
       "      <th>4</th>\n",
       "      <td>2022</td>\n",
       "      <td>5688</td>\n",
       "      <td>150665387</td>\n",
       "      <td>44070783</td>\n",
       "      <td>f</td>\n",
       "      <td>2022-03-14 10:08:44.879</td>\n",
       "      <td>2022-01-02</td>\n",
       "      <td>f</td>\n",
       "      <td>10</td>\n",
       "      <td>6</td>\n",
       "      <td>NaN</td>\n",
       "      <td>ACCEPTED</td>\n",
       "      <td>NaN</td>\n",
       "      <td>F</td>\n",
       "      <td>134214074</td>\n",
       "    </tr>\n",
       "  </tbody>\n",
       "</table>\n",
       "</div>"
      ],
      "text/plain": [
       "   data_year  agency_id  incident_id  nibrs_month_id cargo_theft_flag  \\\n",
       "0       2022       5688    150665449        44070783                f   \n",
       "1       2022       5688    150665362        44070783                f   \n",
       "2       2022       5688    150665492        44070783                f   \n",
       "3       2022       5688    150665358        44070783                f   \n",
       "4       2022       5688    150665387        44070783                f   \n",
       "\n",
       "           submission_date incident_date report_date_flag  incident_hour  \\\n",
       "0  2022-03-14 10:08:45.251    2022-01-01                f             13   \n",
       "1  2022-03-14 10:08:44.767    2022-01-01                f             15   \n",
       "2  2022-03-14 10:08:45.543    2022-01-01                f             22   \n",
       "3  2022-03-14 10:08:44.732    2022-01-01                f             22   \n",
       "4  2022-03-14 10:08:44.879    2022-01-02                f             10   \n",
       "\n",
       "   cleared_except_id cleared_except_date incident_status  data_home  \\\n",
       "0                  6                 NaN        ACCEPTED        NaN   \n",
       "1                  6                 NaN        ACCEPTED        NaN   \n",
       "2                  6                 NaN        ACCEPTED        NaN   \n",
       "3                  6                 NaN        ACCEPTED        NaN   \n",
       "4                  6                 NaN        ACCEPTED        NaN   \n",
       "\n",
       "  orig_format        did  \n",
       "0           F  134214216  \n",
       "1           F  134214020  \n",
       "2           F  134214312  \n",
       "3           F  134213999  \n",
       "4           F  134214074  "
      ]
     },
     "execution_count": 185,
     "metadata": {},
     "output_type": "execute_result"
    }
   ],
   "source": [
    "incident.head()"
   ]
  },
  {
   "cell_type": "code",
   "execution_count": 186,
   "metadata": {
    "id": "HK2qZW3h68Z7"
   },
   "outputs": [],
   "source": [
    "incident_final = incident[[\"incident_id\",'agency_id']]"
   ]
  },
  {
   "cell_type": "code",
   "execution_count": 187,
   "metadata": {
    "colab": {
     "base_uri": "https://localhost:8080/",
     "height": 206
    },
    "id": "Bxp6-Mtr7JjM",
    "outputId": "f758cd4b-5915-407b-99e1-87c79c7deaf3"
   },
   "outputs": [
    {
     "data": {
      "text/html": [
       "<div>\n",
       "<style scoped>\n",
       "    .dataframe tbody tr th:only-of-type {\n",
       "        vertical-align: middle;\n",
       "    }\n",
       "\n",
       "    .dataframe tbody tr th {\n",
       "        vertical-align: top;\n",
       "    }\n",
       "\n",
       "    .dataframe thead th {\n",
       "        text-align: right;\n",
       "    }\n",
       "</style>\n",
       "<table border=\"1\" class=\"dataframe\">\n",
       "  <thead>\n",
       "    <tr style=\"text-align: right;\">\n",
       "      <th></th>\n",
       "      <th>incident_id</th>\n",
       "      <th>agency_id</th>\n",
       "    </tr>\n",
       "  </thead>\n",
       "  <tbody>\n",
       "    <tr>\n",
       "      <th>0</th>\n",
       "      <td>150665449</td>\n",
       "      <td>5688</td>\n",
       "    </tr>\n",
       "    <tr>\n",
       "      <th>1</th>\n",
       "      <td>150665362</td>\n",
       "      <td>5688</td>\n",
       "    </tr>\n",
       "    <tr>\n",
       "      <th>2</th>\n",
       "      <td>150665492</td>\n",
       "      <td>5688</td>\n",
       "    </tr>\n",
       "    <tr>\n",
       "      <th>3</th>\n",
       "      <td>150665358</td>\n",
       "      <td>5688</td>\n",
       "    </tr>\n",
       "    <tr>\n",
       "      <th>4</th>\n",
       "      <td>150665387</td>\n",
       "      <td>5688</td>\n",
       "    </tr>\n",
       "  </tbody>\n",
       "</table>\n",
       "</div>"
      ],
      "text/plain": [
       "   incident_id  agency_id\n",
       "0    150665449       5688\n",
       "1    150665362       5688\n",
       "2    150665492       5688\n",
       "3    150665358       5688\n",
       "4    150665387       5688"
      ]
     },
     "execution_count": 187,
     "metadata": {},
     "output_type": "execute_result"
    }
   ],
   "source": [
    "incident_final.head()"
   ]
  },
  {
   "cell_type": "code",
   "execution_count": 188,
   "metadata": {
    "id": "6o_IKDG-Lqc5"
   },
   "outputs": [],
   "source": [
    "#incident_final = incident_final.withColumnRenamed(\"incident_id\",\"incident_ids\")"
   ]
  },
  {
   "cell_type": "code",
   "execution_count": 189,
   "metadata": {
    "id": "Epnul9Vmwbg1"
   },
   "outputs": [],
   "source": [
    "path6 = 'C:/NIBRS/2022/crime_category.csv'"
   ]
  },
  {
   "cell_type": "code",
   "execution_count": 190,
   "metadata": {
    "id": "QOyhLRvAwv0f"
   },
   "outputs": [],
   "source": [
    "crime = pd.read_csv(path6)"
   ]
  },
  {
   "cell_type": "code",
   "execution_count": 191,
   "metadata": {
    "id": "9auRczmTxoXW"
   },
   "outputs": [],
   "source": [
    "crime.rename(columns = {'Offense_category':'offense_category_name'}, inplace = True)"
   ]
  },
  {
   "cell_type": "code",
   "execution_count": 192,
   "metadata": {
    "colab": {
     "base_uri": "https://localhost:8080/",
     "height": 206
    },
    "id": "hnyxffr2w05q",
    "outputId": "6b896625-0153-4c97-9e23-00f5a1be1d0a"
   },
   "outputs": [
    {
     "data": {
      "text/html": [
       "<div>\n",
       "<style scoped>\n",
       "    .dataframe tbody tr th:only-of-type {\n",
       "        vertical-align: middle;\n",
       "    }\n",
       "\n",
       "    .dataframe tbody tr th {\n",
       "        vertical-align: top;\n",
       "    }\n",
       "\n",
       "    .dataframe thead th {\n",
       "        text-align: right;\n",
       "    }\n",
       "</style>\n",
       "<table border=\"1\" class=\"dataframe\">\n",
       "  <thead>\n",
       "    <tr style=\"text-align: right;\">\n",
       "      <th></th>\n",
       "      <th>offense_category_name</th>\n",
       "      <th>Crime_Type</th>\n",
       "    </tr>\n",
       "  </thead>\n",
       "  <tbody>\n",
       "    <tr>\n",
       "      <th>0</th>\n",
       "      <td>Larceny/Theft Offenses</td>\n",
       "      <td>Property</td>\n",
       "    </tr>\n",
       "    <tr>\n",
       "      <th>1</th>\n",
       "      <td>Assault Offenses</td>\n",
       "      <td>Violent</td>\n",
       "    </tr>\n",
       "    <tr>\n",
       "      <th>2</th>\n",
       "      <td>Burglary/Breaking &amp; Entering</td>\n",
       "      <td>Property</td>\n",
       "    </tr>\n",
       "    <tr>\n",
       "      <th>3</th>\n",
       "      <td>Fraud Offenses</td>\n",
       "      <td>Fraud</td>\n",
       "    </tr>\n",
       "    <tr>\n",
       "      <th>4</th>\n",
       "      <td>Motor Vehicle Theft</td>\n",
       "      <td>Property</td>\n",
       "    </tr>\n",
       "  </tbody>\n",
       "</table>\n",
       "</div>"
      ],
      "text/plain": [
       "          offense_category_name Crime_Type\n",
       "0        Larceny/Theft Offenses   Property\n",
       "1              Assault Offenses    Violent\n",
       "2  Burglary/Breaking & Entering   Property\n",
       "3                Fraud Offenses      Fraud\n",
       "4           Motor Vehicle Theft   Property"
      ]
     },
     "execution_count": 192,
     "metadata": {},
     "output_type": "execute_result"
    }
   ],
   "source": [
    "crime.head()"
   ]
  },
  {
   "cell_type": "code",
   "execution_count": null,
   "metadata": {
    "id": "-Hv0BIxJxnhf"
   },
   "outputs": [],
   "source": []
  },
  {
   "cell_type": "code",
   "execution_count": 193,
   "metadata": {
    "id": "tQwcD1VJw4nO"
   },
   "outputs": [],
   "source": [
    "path7 = 'C:/NIBRS/2022/NIBRS_OFFENSE_TYPE.csv'"
   ]
  },
  {
   "cell_type": "code",
   "execution_count": 194,
   "metadata": {
    "id": "wyWQ1PxSxC8x"
   },
   "outputs": [],
   "source": [
    "typeo = pd.read_csv(path7)"
   ]
  },
  {
   "cell_type": "code",
   "execution_count": 195,
   "metadata": {
    "colab": {
     "base_uri": "https://localhost:8080/",
     "height": 206
    },
    "id": "xcJ46E1_xF83",
    "outputId": "341f603d-ec7d-427b-da78-29a9ccb26f9d"
   },
   "outputs": [
    {
     "data": {
      "text/html": [
       "<div>\n",
       "<style scoped>\n",
       "    .dataframe tbody tr th:only-of-type {\n",
       "        vertical-align: middle;\n",
       "    }\n",
       "\n",
       "    .dataframe tbody tr th {\n",
       "        vertical-align: top;\n",
       "    }\n",
       "\n",
       "    .dataframe thead th {\n",
       "        text-align: right;\n",
       "    }\n",
       "</style>\n",
       "<table border=\"1\" class=\"dataframe\">\n",
       "  <thead>\n",
       "    <tr style=\"text-align: right;\">\n",
       "      <th></th>\n",
       "      <th>offense_code</th>\n",
       "      <th>offense_name</th>\n",
       "      <th>crime_against</th>\n",
       "      <th>ct_flag</th>\n",
       "      <th>hc_flag</th>\n",
       "      <th>hc_code</th>\n",
       "      <th>offense_category_name</th>\n",
       "      <th>offense_group</th>\n",
       "    </tr>\n",
       "  </thead>\n",
       "  <tbody>\n",
       "    <tr>\n",
       "      <th>0</th>\n",
       "      <td>09A</td>\n",
       "      <td>Murder and Nonnegligent Manslaughter</td>\n",
       "      <td>Person</td>\n",
       "      <td>f</td>\n",
       "      <td>t</td>\n",
       "      <td>01</td>\n",
       "      <td>Homicide Offenses</td>\n",
       "      <td>A</td>\n",
       "    </tr>\n",
       "    <tr>\n",
       "      <th>1</th>\n",
       "      <td>09B</td>\n",
       "      <td>Negligent Manslaughter</td>\n",
       "      <td>Person</td>\n",
       "      <td>f</td>\n",
       "      <td>t</td>\n",
       "      <td></td>\n",
       "      <td>Homicide Offenses</td>\n",
       "      <td>A</td>\n",
       "    </tr>\n",
       "    <tr>\n",
       "      <th>2</th>\n",
       "      <td>09C</td>\n",
       "      <td>Justifiable Homicide</td>\n",
       "      <td>Person</td>\n",
       "      <td>f</td>\n",
       "      <td>f</td>\n",
       "      <td></td>\n",
       "      <td>Homicide Offenses</td>\n",
       "      <td>A</td>\n",
       "    </tr>\n",
       "    <tr>\n",
       "      <th>3</th>\n",
       "      <td>11A</td>\n",
       "      <td>Rape</td>\n",
       "      <td>Person</td>\n",
       "      <td>f</td>\n",
       "      <td>t</td>\n",
       "      <td>02</td>\n",
       "      <td>Sex Offenses</td>\n",
       "      <td>A</td>\n",
       "    </tr>\n",
       "    <tr>\n",
       "      <th>4</th>\n",
       "      <td>11B</td>\n",
       "      <td>Sodomy</td>\n",
       "      <td>Person</td>\n",
       "      <td>f</td>\n",
       "      <td>t</td>\n",
       "      <td>02</td>\n",
       "      <td>Sex Offenses</td>\n",
       "      <td>A</td>\n",
       "    </tr>\n",
       "  </tbody>\n",
       "</table>\n",
       "</div>"
      ],
      "text/plain": [
       "  offense_code                          offense_name crime_against ct_flag  \\\n",
       "0          09A  Murder and Nonnegligent Manslaughter        Person       f   \n",
       "1          09B                Negligent Manslaughter        Person       f   \n",
       "2          09C                  Justifiable Homicide        Person       f   \n",
       "3          11A                                  Rape        Person       f   \n",
       "4          11B                                Sodomy        Person       f   \n",
       "\n",
       "  hc_flag hc_code offense_category_name offense_group  \n",
       "0       t      01     Homicide Offenses             A  \n",
       "1       t             Homicide Offenses             A  \n",
       "2       f             Homicide Offenses             A  \n",
       "3       t      02          Sex Offenses             A  \n",
       "4       t      02          Sex Offenses             A  "
      ]
     },
     "execution_count": 195,
     "metadata": {},
     "output_type": "execute_result"
    }
   ],
   "source": [
    "typeo.head()"
   ]
  },
  {
   "cell_type": "code",
   "execution_count": 196,
   "metadata": {
    "id": "ec7YOvkhxyWw"
   },
   "outputs": [],
   "source": [
    "typeo_final = typeo[['offense_code','offense_category_name']]"
   ]
  },
  {
   "cell_type": "code",
   "execution_count": 197,
   "metadata": {
    "colab": {
     "base_uri": "https://localhost:8080/",
     "height": 206
    },
    "id": "Z6FuWsGnz5Co",
    "outputId": "70de5c47-0040-4a52-8ab8-d68dbbba3747"
   },
   "outputs": [],
   "source": [
    "#crime_final.head()"
   ]
  },
  {
   "cell_type": "code",
   "execution_count": 198,
   "metadata": {
    "colab": {
     "base_uri": "https://localhost:8080/",
     "height": 206
    },
    "id": "UVslsp_Uy8sj",
    "outputId": "8e9b53d8-290d-47a7-a757-4a762480055b"
   },
   "outputs": [
    {
     "data": {
      "text/html": [
       "<div>\n",
       "<style scoped>\n",
       "    .dataframe tbody tr th:only-of-type {\n",
       "        vertical-align: middle;\n",
       "    }\n",
       "\n",
       "    .dataframe tbody tr th {\n",
       "        vertical-align: top;\n",
       "    }\n",
       "\n",
       "    .dataframe thead th {\n",
       "        text-align: right;\n",
       "    }\n",
       "</style>\n",
       "<table border=\"1\" class=\"dataframe\">\n",
       "  <thead>\n",
       "    <tr style=\"text-align: right;\">\n",
       "      <th></th>\n",
       "      <th>offense_code</th>\n",
       "      <th>offense_category_name</th>\n",
       "    </tr>\n",
       "  </thead>\n",
       "  <tbody>\n",
       "    <tr>\n",
       "      <th>0</th>\n",
       "      <td>09A</td>\n",
       "      <td>Homicide Offenses</td>\n",
       "    </tr>\n",
       "    <tr>\n",
       "      <th>1</th>\n",
       "      <td>09B</td>\n",
       "      <td>Homicide Offenses</td>\n",
       "    </tr>\n",
       "    <tr>\n",
       "      <th>2</th>\n",
       "      <td>09C</td>\n",
       "      <td>Homicide Offenses</td>\n",
       "    </tr>\n",
       "    <tr>\n",
       "      <th>3</th>\n",
       "      <td>11A</td>\n",
       "      <td>Sex Offenses</td>\n",
       "    </tr>\n",
       "    <tr>\n",
       "      <th>4</th>\n",
       "      <td>11B</td>\n",
       "      <td>Sex Offenses</td>\n",
       "    </tr>\n",
       "  </tbody>\n",
       "</table>\n",
       "</div>"
      ],
      "text/plain": [
       "  offense_code offense_category_name\n",
       "0          09A     Homicide Offenses\n",
       "1          09B     Homicide Offenses\n",
       "2          09C     Homicide Offenses\n",
       "3          11A          Sex Offenses\n",
       "4          11B          Sex Offenses"
      ]
     },
     "execution_count": 198,
     "metadata": {},
     "output_type": "execute_result"
    }
   ],
   "source": [
    "typeo_final.head()"
   ]
  },
  {
   "cell_type": "code",
   "execution_count": 199,
   "metadata": {
    "id": "4_agrHQKzgWT"
   },
   "outputs": [],
   "source": [
    "crime_final = typeo_final.merge(crime,on = 'offense_category_name', how='left')"
   ]
  },
  {
   "cell_type": "code",
   "execution_count": 200,
   "metadata": {
    "colab": {
     "base_uri": "https://localhost:8080/",
     "height": 206
    },
    "id": "-PFRuiBw0MJI",
    "outputId": "e3d63aa0-9158-4701-d3b1-e416fb10b157"
   },
   "outputs": [
    {
     "data": {
      "text/html": [
       "<div>\n",
       "<style scoped>\n",
       "    .dataframe tbody tr th:only-of-type {\n",
       "        vertical-align: middle;\n",
       "    }\n",
       "\n",
       "    .dataframe tbody tr th {\n",
       "        vertical-align: top;\n",
       "    }\n",
       "\n",
       "    .dataframe thead th {\n",
       "        text-align: right;\n",
       "    }\n",
       "</style>\n",
       "<table border=\"1\" class=\"dataframe\">\n",
       "  <thead>\n",
       "    <tr style=\"text-align: right;\">\n",
       "      <th></th>\n",
       "      <th>offense_code</th>\n",
       "      <th>offense_category_name</th>\n",
       "      <th>Crime_Type</th>\n",
       "    </tr>\n",
       "  </thead>\n",
       "  <tbody>\n",
       "    <tr>\n",
       "      <th>0</th>\n",
       "      <td>09A</td>\n",
       "      <td>Homicide Offenses</td>\n",
       "      <td>Violent</td>\n",
       "    </tr>\n",
       "    <tr>\n",
       "      <th>1</th>\n",
       "      <td>09B</td>\n",
       "      <td>Homicide Offenses</td>\n",
       "      <td>Violent</td>\n",
       "    </tr>\n",
       "    <tr>\n",
       "      <th>2</th>\n",
       "      <td>09C</td>\n",
       "      <td>Homicide Offenses</td>\n",
       "      <td>Violent</td>\n",
       "    </tr>\n",
       "    <tr>\n",
       "      <th>3</th>\n",
       "      <td>11A</td>\n",
       "      <td>Sex Offenses</td>\n",
       "      <td>Violent</td>\n",
       "    </tr>\n",
       "    <tr>\n",
       "      <th>4</th>\n",
       "      <td>11B</td>\n",
       "      <td>Sex Offenses</td>\n",
       "      <td>Violent</td>\n",
       "    </tr>\n",
       "  </tbody>\n",
       "</table>\n",
       "</div>"
      ],
      "text/plain": [
       "  offense_code offense_category_name Crime_Type\n",
       "0          09A     Homicide Offenses    Violent\n",
       "1          09B     Homicide Offenses    Violent\n",
       "2          09C     Homicide Offenses    Violent\n",
       "3          11A          Sex Offenses    Violent\n",
       "4          11B          Sex Offenses    Violent"
      ]
     },
     "execution_count": 200,
     "metadata": {},
     "output_type": "execute_result"
    }
   ],
   "source": [
    "crime_final.head()"
   ]
  },
  {
   "cell_type": "code",
   "execution_count": 201,
   "metadata": {
    "id": "YFKWld0P0Ogn"
   },
   "outputs": [],
   "source": [
    "offense_final2 = offense_final.merge(crime_final, on = 'offense_code', how = 'left')"
   ]
  },
  {
   "cell_type": "code",
   "execution_count": 202,
   "metadata": {
    "colab": {
     "base_uri": "https://localhost:8080/",
     "height": 206
    },
    "id": "5iCw30hr0l4f",
    "outputId": "109b4e6a-888f-4430-81ff-83c52886b98a"
   },
   "outputs": [
    {
     "data": {
      "text/html": [
       "<div>\n",
       "<style scoped>\n",
       "    .dataframe tbody tr th:only-of-type {\n",
       "        vertical-align: middle;\n",
       "    }\n",
       "\n",
       "    .dataframe tbody tr th {\n",
       "        vertical-align: top;\n",
       "    }\n",
       "\n",
       "    .dataframe thead th {\n",
       "        text-align: right;\n",
       "    }\n",
       "</style>\n",
       "<table border=\"1\" class=\"dataframe\">\n",
       "  <thead>\n",
       "    <tr style=\"text-align: right;\">\n",
       "      <th></th>\n",
       "      <th>offense_id</th>\n",
       "      <th>offense_code</th>\n",
       "      <th>incident_id</th>\n",
       "      <th>offense_category_name</th>\n",
       "      <th>Crime_Type</th>\n",
       "    </tr>\n",
       "  </thead>\n",
       "  <tbody>\n",
       "    <tr>\n",
       "      <th>0</th>\n",
       "      <td>180591817</td>\n",
       "      <td>220</td>\n",
       "      <td>150665449</td>\n",
       "      <td>Burglary/Breaking &amp; Entering</td>\n",
       "      <td>Property</td>\n",
       "    </tr>\n",
       "    <tr>\n",
       "      <th>1</th>\n",
       "      <td>180591717</td>\n",
       "      <td>13B</td>\n",
       "      <td>150665362</td>\n",
       "      <td>Assault Offenses</td>\n",
       "      <td>Violent</td>\n",
       "    </tr>\n",
       "    <tr>\n",
       "      <th>2</th>\n",
       "      <td>180591869</td>\n",
       "      <td>13C</td>\n",
       "      <td>150665492</td>\n",
       "      <td>Assault Offenses</td>\n",
       "      <td>Violent</td>\n",
       "    </tr>\n",
       "    <tr>\n",
       "      <th>3</th>\n",
       "      <td>180591712</td>\n",
       "      <td>13B</td>\n",
       "      <td>150665358</td>\n",
       "      <td>Assault Offenses</td>\n",
       "      <td>Violent</td>\n",
       "    </tr>\n",
       "    <tr>\n",
       "      <th>4</th>\n",
       "      <td>180591748</td>\n",
       "      <td>23G</td>\n",
       "      <td>150665387</td>\n",
       "      <td>Larceny/Theft Offenses</td>\n",
       "      <td>Property</td>\n",
       "    </tr>\n",
       "  </tbody>\n",
       "</table>\n",
       "</div>"
      ],
      "text/plain": [
       "   offense_id offense_code  incident_id         offense_category_name  \\\n",
       "0   180591817          220    150665449  Burglary/Breaking & Entering   \n",
       "1   180591717          13B    150665362              Assault Offenses   \n",
       "2   180591869          13C    150665492              Assault Offenses   \n",
       "3   180591712          13B    150665358              Assault Offenses   \n",
       "4   180591748          23G    150665387        Larceny/Theft Offenses   \n",
       "\n",
       "  Crime_Type  \n",
       "0   Property  \n",
       "1    Violent  \n",
       "2    Violent  \n",
       "3    Violent  \n",
       "4   Property  "
      ]
     },
     "execution_count": 202,
     "metadata": {},
     "output_type": "execute_result"
    }
   ],
   "source": [
    "offense_final2.head()"
   ]
  },
  {
   "cell_type": "code",
   "execution_count": 203,
   "metadata": {
    "id": "SewL8-4lzFND"
   },
   "outputs": [],
   "source": [
    "final1 = offense_final2.merge(incident_final, on='incident_id', how='left')"
   ]
  },
  {
   "cell_type": "code",
   "execution_count": 204,
   "metadata": {
    "colab": {
     "base_uri": "https://localhost:8080/",
     "height": 206
    },
    "id": "1JttloMi1Smx",
    "outputId": "0321ec7d-8ffa-41d2-9521-53816312f18d"
   },
   "outputs": [
    {
     "data": {
      "text/html": [
       "<div>\n",
       "<style scoped>\n",
       "    .dataframe tbody tr th:only-of-type {\n",
       "        vertical-align: middle;\n",
       "    }\n",
       "\n",
       "    .dataframe tbody tr th {\n",
       "        vertical-align: top;\n",
       "    }\n",
       "\n",
       "    .dataframe thead th {\n",
       "        text-align: right;\n",
       "    }\n",
       "</style>\n",
       "<table border=\"1\" class=\"dataframe\">\n",
       "  <thead>\n",
       "    <tr style=\"text-align: right;\">\n",
       "      <th></th>\n",
       "      <th>offense_id</th>\n",
       "      <th>offense_code</th>\n",
       "      <th>incident_id</th>\n",
       "      <th>offense_category_name</th>\n",
       "      <th>Crime_Type</th>\n",
       "      <th>agency_id</th>\n",
       "    </tr>\n",
       "  </thead>\n",
       "  <tbody>\n",
       "    <tr>\n",
       "      <th>0</th>\n",
       "      <td>180591817</td>\n",
       "      <td>220</td>\n",
       "      <td>150665449</td>\n",
       "      <td>Burglary/Breaking &amp; Entering</td>\n",
       "      <td>Property</td>\n",
       "      <td>5688</td>\n",
       "    </tr>\n",
       "    <tr>\n",
       "      <th>1</th>\n",
       "      <td>180591717</td>\n",
       "      <td>13B</td>\n",
       "      <td>150665362</td>\n",
       "      <td>Assault Offenses</td>\n",
       "      <td>Violent</td>\n",
       "      <td>5688</td>\n",
       "    </tr>\n",
       "    <tr>\n",
       "      <th>2</th>\n",
       "      <td>180591869</td>\n",
       "      <td>13C</td>\n",
       "      <td>150665492</td>\n",
       "      <td>Assault Offenses</td>\n",
       "      <td>Violent</td>\n",
       "      <td>5688</td>\n",
       "    </tr>\n",
       "    <tr>\n",
       "      <th>3</th>\n",
       "      <td>180591712</td>\n",
       "      <td>13B</td>\n",
       "      <td>150665358</td>\n",
       "      <td>Assault Offenses</td>\n",
       "      <td>Violent</td>\n",
       "      <td>5688</td>\n",
       "    </tr>\n",
       "    <tr>\n",
       "      <th>4</th>\n",
       "      <td>180591748</td>\n",
       "      <td>23G</td>\n",
       "      <td>150665387</td>\n",
       "      <td>Larceny/Theft Offenses</td>\n",
       "      <td>Property</td>\n",
       "      <td>5688</td>\n",
       "    </tr>\n",
       "  </tbody>\n",
       "</table>\n",
       "</div>"
      ],
      "text/plain": [
       "   offense_id offense_code  incident_id         offense_category_name  \\\n",
       "0   180591817          220    150665449  Burglary/Breaking & Entering   \n",
       "1   180591717          13B    150665362              Assault Offenses   \n",
       "2   180591869          13C    150665492              Assault Offenses   \n",
       "3   180591712          13B    150665358              Assault Offenses   \n",
       "4   180591748          23G    150665387        Larceny/Theft Offenses   \n",
       "\n",
       "  Crime_Type  agency_id  \n",
       "0   Property       5688  \n",
       "1    Violent       5688  \n",
       "2    Violent       5688  \n",
       "3    Violent       5688  \n",
       "4   Property       5688  "
      ]
     },
     "execution_count": 204,
     "metadata": {},
     "output_type": "execute_result"
    }
   ],
   "source": [
    "final1.head()"
   ]
  },
  {
   "cell_type": "code",
   "execution_count": 205,
   "metadata": {
    "id": "GtwkHY-l1dW3"
   },
   "outputs": [],
   "source": [
    "final2 = final1.merge(victim_final, on = 'incident_id', how = 'left')"
   ]
  },
  {
   "cell_type": "code",
   "execution_count": 206,
   "metadata": {
    "colab": {
     "base_uri": "https://localhost:8080/",
     "height": 206
    },
    "id": "NWNKlbcl1q83",
    "outputId": "880d5b47-5604-4cd5-fd87-cd325e5e71fd"
   },
   "outputs": [
    {
     "data": {
      "text/html": [
       "<div>\n",
       "<style scoped>\n",
       "    .dataframe tbody tr th:only-of-type {\n",
       "        vertical-align: middle;\n",
       "    }\n",
       "\n",
       "    .dataframe tbody tr th {\n",
       "        vertical-align: top;\n",
       "    }\n",
       "\n",
       "    .dataframe thead th {\n",
       "        text-align: right;\n",
       "    }\n",
       "</style>\n",
       "<table border=\"1\" class=\"dataframe\">\n",
       "  <thead>\n",
       "    <tr style=\"text-align: right;\">\n",
       "      <th></th>\n",
       "      <th>offense_id</th>\n",
       "      <th>offense_code</th>\n",
       "      <th>incident_id</th>\n",
       "      <th>offense_category_name</th>\n",
       "      <th>Crime_Type</th>\n",
       "      <th>agency_id</th>\n",
       "      <th>victim_id</th>\n",
       "      <th>age_num</th>\n",
       "    </tr>\n",
       "  </thead>\n",
       "  <tbody>\n",
       "    <tr>\n",
       "      <th>0</th>\n",
       "      <td>180591817</td>\n",
       "      <td>220</td>\n",
       "      <td>150665449</td>\n",
       "      <td>Burglary/Breaking &amp; Entering</td>\n",
       "      <td>Property</td>\n",
       "      <td>5688</td>\n",
       "      <td>166275722</td>\n",
       "      <td>75</td>\n",
       "    </tr>\n",
       "    <tr>\n",
       "      <th>1</th>\n",
       "      <td>180591717</td>\n",
       "      <td>13B</td>\n",
       "      <td>150665362</td>\n",
       "      <td>Assault Offenses</td>\n",
       "      <td>Violent</td>\n",
       "      <td>5688</td>\n",
       "      <td>166275620</td>\n",
       "      <td>61</td>\n",
       "    </tr>\n",
       "    <tr>\n",
       "      <th>2</th>\n",
       "      <td>180591869</td>\n",
       "      <td>13C</td>\n",
       "      <td>150665492</td>\n",
       "      <td>Assault Offenses</td>\n",
       "      <td>Violent</td>\n",
       "      <td>5688</td>\n",
       "      <td>166275780</td>\n",
       "      <td>43</td>\n",
       "    </tr>\n",
       "    <tr>\n",
       "      <th>3</th>\n",
       "      <td>180591712</td>\n",
       "      <td>13B</td>\n",
       "      <td>150665358</td>\n",
       "      <td>Assault Offenses</td>\n",
       "      <td>Violent</td>\n",
       "      <td>5688</td>\n",
       "      <td>166275615</td>\n",
       "      <td>41</td>\n",
       "    </tr>\n",
       "    <tr>\n",
       "      <th>4</th>\n",
       "      <td>180591748</td>\n",
       "      <td>23G</td>\n",
       "      <td>150665387</td>\n",
       "      <td>Larceny/Theft Offenses</td>\n",
       "      <td>Property</td>\n",
       "      <td>5688</td>\n",
       "      <td>166275652</td>\n",
       "      <td>28</td>\n",
       "    </tr>\n",
       "  </tbody>\n",
       "</table>\n",
       "</div>"
      ],
      "text/plain": [
       "   offense_id offense_code  incident_id         offense_category_name  \\\n",
       "0   180591817          220    150665449  Burglary/Breaking & Entering   \n",
       "1   180591717          13B    150665362              Assault Offenses   \n",
       "2   180591869          13C    150665492              Assault Offenses   \n",
       "3   180591712          13B    150665358              Assault Offenses   \n",
       "4   180591748          23G    150665387        Larceny/Theft Offenses   \n",
       "\n",
       "  Crime_Type  agency_id  victim_id age_num  \n",
       "0   Property       5688  166275722      75  \n",
       "1    Violent       5688  166275620      61  \n",
       "2    Violent       5688  166275780      43  \n",
       "3    Violent       5688  166275615      41  \n",
       "4   Property       5688  166275652      28  "
      ]
     },
     "execution_count": 206,
     "metadata": {},
     "output_type": "execute_result"
    }
   ],
   "source": [
    "final2.head()"
   ]
  },
  {
   "cell_type": "code",
   "execution_count": 207,
   "metadata": {
    "id": "6XV0Mho01xsO"
   },
   "outputs": [],
   "source": [
    "final3 = final2.merge(agencies_final, on = 'agency_id', how = 'left')"
   ]
  },
  {
   "cell_type": "code",
   "execution_count": 208,
   "metadata": {
    "colab": {
     "base_uri": "https://localhost:8080/",
     "height": 206
    },
    "id": "jZnq6Qlz2Ppz",
    "outputId": "9671f541-2742-4cc3-fc7f-f3dac5c39a50"
   },
   "outputs": [
    {
     "data": {
      "text/html": [
       "<div>\n",
       "<style scoped>\n",
       "    .dataframe tbody tr th:only-of-type {\n",
       "        vertical-align: middle;\n",
       "    }\n",
       "\n",
       "    .dataframe tbody tr th {\n",
       "        vertical-align: top;\n",
       "    }\n",
       "\n",
       "    .dataframe thead th {\n",
       "        text-align: right;\n",
       "    }\n",
       "</style>\n",
       "<table border=\"1\" class=\"dataframe\">\n",
       "  <thead>\n",
       "    <tr style=\"text-align: right;\">\n",
       "      <th></th>\n",
       "      <th>offense_id</th>\n",
       "      <th>offense_code</th>\n",
       "      <th>incident_id</th>\n",
       "      <th>offense_category_name</th>\n",
       "      <th>Crime_Type</th>\n",
       "      <th>agency_id</th>\n",
       "      <th>victim_id</th>\n",
       "      <th>age_num</th>\n",
       "      <th>county_name</th>\n",
       "    </tr>\n",
       "  </thead>\n",
       "  <tbody>\n",
       "    <tr>\n",
       "      <th>0</th>\n",
       "      <td>180591817</td>\n",
       "      <td>220</td>\n",
       "      <td>150665449</td>\n",
       "      <td>Burglary/Breaking &amp; Entering</td>\n",
       "      <td>Property</td>\n",
       "      <td>5688</td>\n",
       "      <td>166275722</td>\n",
       "      <td>75</td>\n",
       "      <td>ALLEN</td>\n",
       "    </tr>\n",
       "    <tr>\n",
       "      <th>1</th>\n",
       "      <td>180591717</td>\n",
       "      <td>13B</td>\n",
       "      <td>150665362</td>\n",
       "      <td>Assault Offenses</td>\n",
       "      <td>Violent</td>\n",
       "      <td>5688</td>\n",
       "      <td>166275620</td>\n",
       "      <td>61</td>\n",
       "      <td>ALLEN</td>\n",
       "    </tr>\n",
       "    <tr>\n",
       "      <th>2</th>\n",
       "      <td>180591869</td>\n",
       "      <td>13C</td>\n",
       "      <td>150665492</td>\n",
       "      <td>Assault Offenses</td>\n",
       "      <td>Violent</td>\n",
       "      <td>5688</td>\n",
       "      <td>166275780</td>\n",
       "      <td>43</td>\n",
       "      <td>ALLEN</td>\n",
       "    </tr>\n",
       "    <tr>\n",
       "      <th>3</th>\n",
       "      <td>180591712</td>\n",
       "      <td>13B</td>\n",
       "      <td>150665358</td>\n",
       "      <td>Assault Offenses</td>\n",
       "      <td>Violent</td>\n",
       "      <td>5688</td>\n",
       "      <td>166275615</td>\n",
       "      <td>41</td>\n",
       "      <td>ALLEN</td>\n",
       "    </tr>\n",
       "    <tr>\n",
       "      <th>4</th>\n",
       "      <td>180591748</td>\n",
       "      <td>23G</td>\n",
       "      <td>150665387</td>\n",
       "      <td>Larceny/Theft Offenses</td>\n",
       "      <td>Property</td>\n",
       "      <td>5688</td>\n",
       "      <td>166275652</td>\n",
       "      <td>28</td>\n",
       "      <td>ALLEN</td>\n",
       "    </tr>\n",
       "  </tbody>\n",
       "</table>\n",
       "</div>"
      ],
      "text/plain": [
       "   offense_id offense_code  incident_id         offense_category_name  \\\n",
       "0   180591817          220    150665449  Burglary/Breaking & Entering   \n",
       "1   180591717          13B    150665362              Assault Offenses   \n",
       "2   180591869          13C    150665492              Assault Offenses   \n",
       "3   180591712          13B    150665358              Assault Offenses   \n",
       "4   180591748          23G    150665387        Larceny/Theft Offenses   \n",
       "\n",
       "  Crime_Type  agency_id  victim_id age_num county_name  \n",
       "0   Property       5688  166275722      75       ALLEN  \n",
       "1    Violent       5688  166275620      61       ALLEN  \n",
       "2    Violent       5688  166275780      43       ALLEN  \n",
       "3    Violent       5688  166275615      41       ALLEN  \n",
       "4   Property       5688  166275652      28       ALLEN  "
      ]
     },
     "execution_count": 208,
     "metadata": {},
     "output_type": "execute_result"
    }
   ],
   "source": [
    "final3.head()"
   ]
  },
  {
   "cell_type": "code",
   "execution_count": 209,
   "metadata": {
    "id": "65KbIjEQ2npv"
   },
   "outputs": [],
   "source": [
    "final3[\"age_num\"] = pd.to_numeric(final3[\"age_num\"], errors = 'coerce')"
   ]
  },
  {
   "cell_type": "code",
   "execution_count": 210,
   "metadata": {
    "colab": {
     "base_uri": "https://localhost:8080/"
    },
    "id": "cVnxqweN245M",
    "outputId": "afa98f73-7bf0-4a3d-dfc5-ec9bc061cf6c"
   },
   "outputs": [
    {
     "data": {
      "text/plain": [
       "(273712, 9)"
      ]
     },
     "execution_count": 210,
     "metadata": {},
     "output_type": "execute_result"
    }
   ],
   "source": [
    "final3.shape"
   ]
  },
  {
   "cell_type": "code",
   "execution_count": 211,
   "metadata": {
    "id": "xl7rud082Vku"
   },
   "outputs": [],
   "source": [
    "final55 = final3[final3['age_num'] >= 55]\n",
    "final55 = final3\n"
   ]
  },
  {
   "cell_type": "code",
   "execution_count": 212,
   "metadata": {
    "colab": {
     "base_uri": "https://localhost:8080/",
     "height": 206
    },
    "id": "Ezljx7vh2ziC",
    "outputId": "21942004-4352-4271-b93a-e03c082a3b8b"
   },
   "outputs": [
    {
     "data": {
      "text/html": [
       "<div>\n",
       "<style scoped>\n",
       "    .dataframe tbody tr th:only-of-type {\n",
       "        vertical-align: middle;\n",
       "    }\n",
       "\n",
       "    .dataframe tbody tr th {\n",
       "        vertical-align: top;\n",
       "    }\n",
       "\n",
       "    .dataframe thead th {\n",
       "        text-align: right;\n",
       "    }\n",
       "</style>\n",
       "<table border=\"1\" class=\"dataframe\">\n",
       "  <thead>\n",
       "    <tr style=\"text-align: right;\">\n",
       "      <th></th>\n",
       "      <th>offense_id</th>\n",
       "      <th>offense_code</th>\n",
       "      <th>incident_id</th>\n",
       "      <th>offense_category_name</th>\n",
       "      <th>Crime_Type</th>\n",
       "      <th>agency_id</th>\n",
       "      <th>victim_id</th>\n",
       "      <th>age_num</th>\n",
       "      <th>county_name</th>\n",
       "    </tr>\n",
       "  </thead>\n",
       "  <tbody>\n",
       "    <tr>\n",
       "      <th>0</th>\n",
       "      <td>180591817</td>\n",
       "      <td>220</td>\n",
       "      <td>150665449</td>\n",
       "      <td>Burglary/Breaking &amp; Entering</td>\n",
       "      <td>Property</td>\n",
       "      <td>5688</td>\n",
       "      <td>166275722</td>\n",
       "      <td>75.0</td>\n",
       "      <td>ALLEN</td>\n",
       "    </tr>\n",
       "    <tr>\n",
       "      <th>1</th>\n",
       "      <td>180591717</td>\n",
       "      <td>13B</td>\n",
       "      <td>150665362</td>\n",
       "      <td>Assault Offenses</td>\n",
       "      <td>Violent</td>\n",
       "      <td>5688</td>\n",
       "      <td>166275620</td>\n",
       "      <td>61.0</td>\n",
       "      <td>ALLEN</td>\n",
       "    </tr>\n",
       "    <tr>\n",
       "      <th>2</th>\n",
       "      <td>180591869</td>\n",
       "      <td>13C</td>\n",
       "      <td>150665492</td>\n",
       "      <td>Assault Offenses</td>\n",
       "      <td>Violent</td>\n",
       "      <td>5688</td>\n",
       "      <td>166275780</td>\n",
       "      <td>43.0</td>\n",
       "      <td>ALLEN</td>\n",
       "    </tr>\n",
       "    <tr>\n",
       "      <th>3</th>\n",
       "      <td>180591712</td>\n",
       "      <td>13B</td>\n",
       "      <td>150665358</td>\n",
       "      <td>Assault Offenses</td>\n",
       "      <td>Violent</td>\n",
       "      <td>5688</td>\n",
       "      <td>166275615</td>\n",
       "      <td>41.0</td>\n",
       "      <td>ALLEN</td>\n",
       "    </tr>\n",
       "    <tr>\n",
       "      <th>4</th>\n",
       "      <td>180591748</td>\n",
       "      <td>23G</td>\n",
       "      <td>150665387</td>\n",
       "      <td>Larceny/Theft Offenses</td>\n",
       "      <td>Property</td>\n",
       "      <td>5688</td>\n",
       "      <td>166275652</td>\n",
       "      <td>28.0</td>\n",
       "      <td>ALLEN</td>\n",
       "    </tr>\n",
       "  </tbody>\n",
       "</table>\n",
       "</div>"
      ],
      "text/plain": [
       "   offense_id offense_code  incident_id         offense_category_name  \\\n",
       "0   180591817          220    150665449  Burglary/Breaking & Entering   \n",
       "1   180591717          13B    150665362              Assault Offenses   \n",
       "2   180591869          13C    150665492              Assault Offenses   \n",
       "3   180591712          13B    150665358              Assault Offenses   \n",
       "4   180591748          23G    150665387        Larceny/Theft Offenses   \n",
       "\n",
       "  Crime_Type  agency_id  victim_id  age_num county_name  \n",
       "0   Property       5688  166275722     75.0       ALLEN  \n",
       "1    Violent       5688  166275620     61.0       ALLEN  \n",
       "2    Violent       5688  166275780     43.0       ALLEN  \n",
       "3    Violent       5688  166275615     41.0       ALLEN  \n",
       "4   Property       5688  166275652     28.0       ALLEN  "
      ]
     },
     "execution_count": 212,
     "metadata": {},
     "output_type": "execute_result"
    }
   ],
   "source": [
    "final55.head()"
   ]
  },
  {
   "cell_type": "code",
   "execution_count": 213,
   "metadata": {
    "colab": {
     "base_uri": "https://localhost:8080/"
    },
    "id": "bVqhFXbH22RW",
    "outputId": "a4e6d0b6-c7ad-4d02-a40a-06404c6acdbe"
   },
   "outputs": [
    {
     "data": {
      "text/plain": [
       "(273712, 9)"
      ]
     },
     "execution_count": 213,
     "metadata": {},
     "output_type": "execute_result"
    }
   ],
   "source": [
    "final55.shape"
   ]
  },
  {
   "cell_type": "code",
   "execution_count": 214,
   "metadata": {
    "id": "Dpnx84wX3Bym"
   },
   "outputs": [],
   "source": [
    "#Violent crime\n",
    "final_violent = final55[final55['Crime_Type'] == 'Violent']"
   ]
  },
  {
   "cell_type": "code",
   "execution_count": 215,
   "metadata": {
    "colab": {
     "base_uri": "https://localhost:8080/"
    },
    "id": "Rb3Uz7mP3zNC",
    "outputId": "9f2aa6ab-5e7f-436f-af0d-0c18fe1c286d"
   },
   "outputs": [
    {
     "data": {
      "text/plain": [
       "(82885, 9)"
      ]
     },
     "execution_count": 215,
     "metadata": {},
     "output_type": "execute_result"
    }
   ],
   "source": [
    "final_violent.shape"
   ]
  },
  {
   "cell_type": "code",
   "execution_count": 216,
   "metadata": {
    "id": "xJgdV--Q38zT"
   },
   "outputs": [],
   "source": [
    "#Violent crime\n",
    "final_property = final55[final55['Crime_Type'] == 'Property']"
   ]
  },
  {
   "cell_type": "code",
   "execution_count": 217,
   "metadata": {
    "colab": {
     "base_uri": "https://localhost:8080/"
    },
    "id": "pGq8FPYg4MG7",
    "outputId": "06bc3707-9fa6-4a67-98f4-171be87c1a19"
   },
   "outputs": [
    {
     "data": {
      "text/plain": [
       "(112158, 9)"
      ]
     },
     "execution_count": 217,
     "metadata": {},
     "output_type": "execute_result"
    }
   ],
   "source": [
    "final_property.shape"
   ]
  },
  {
   "cell_type": "code",
   "execution_count": 218,
   "metadata": {
    "id": "sGdq_V9Y4OAf"
   },
   "outputs": [],
   "source": [
    "#Fraud Crime\n",
    "final_fraud = final55[final55['Crime_Type'] == 'Fraud']"
   ]
  },
  {
   "cell_type": "code",
   "execution_count": 219,
   "metadata": {
    "colab": {
     "base_uri": "https://localhost:8080/"
    },
    "id": "h1U64vfs4U4t",
    "outputId": "aa168b4b-4623-4e27-9083-e41ce09b08f2"
   },
   "outputs": [
    {
     "data": {
      "text/plain": [
       "(24264, 9)"
      ]
     },
     "execution_count": 219,
     "metadata": {},
     "output_type": "execute_result"
    }
   ],
   "source": [
    "final_fraud.shape"
   ]
  },
  {
   "cell_type": "code",
   "execution_count": 220,
   "metadata": {
    "colab": {
     "base_uri": "https://localhost:8080/",
     "height": 206
    },
    "id": "ZH9r4gFb4fSe",
    "outputId": "b5d0ca2a-1588-4329-d70c-ed9bf1829445"
   },
   "outputs": [
    {
     "data": {
      "text/html": [
       "<div>\n",
       "<style scoped>\n",
       "    .dataframe tbody tr th:only-of-type {\n",
       "        vertical-align: middle;\n",
       "    }\n",
       "\n",
       "    .dataframe tbody tr th {\n",
       "        vertical-align: top;\n",
       "    }\n",
       "\n",
       "    .dataframe thead th {\n",
       "        text-align: right;\n",
       "    }\n",
       "</style>\n",
       "<table border=\"1\" class=\"dataframe\">\n",
       "  <thead>\n",
       "    <tr style=\"text-align: right;\">\n",
       "      <th></th>\n",
       "      <th>offense_id</th>\n",
       "      <th>offense_code</th>\n",
       "      <th>incident_id</th>\n",
       "      <th>offense_category_name</th>\n",
       "      <th>Crime_Type</th>\n",
       "      <th>agency_id</th>\n",
       "      <th>victim_id</th>\n",
       "      <th>age_num</th>\n",
       "      <th>county_name</th>\n",
       "    </tr>\n",
       "  </thead>\n",
       "  <tbody>\n",
       "    <tr>\n",
       "      <th>1</th>\n",
       "      <td>180591717</td>\n",
       "      <td>13B</td>\n",
       "      <td>150665362</td>\n",
       "      <td>Assault Offenses</td>\n",
       "      <td>Violent</td>\n",
       "      <td>5688</td>\n",
       "      <td>166275620</td>\n",
       "      <td>61.0</td>\n",
       "      <td>ALLEN</td>\n",
       "    </tr>\n",
       "    <tr>\n",
       "      <th>2</th>\n",
       "      <td>180591869</td>\n",
       "      <td>13C</td>\n",
       "      <td>150665492</td>\n",
       "      <td>Assault Offenses</td>\n",
       "      <td>Violent</td>\n",
       "      <td>5688</td>\n",
       "      <td>166275780</td>\n",
       "      <td>43.0</td>\n",
       "      <td>ALLEN</td>\n",
       "    </tr>\n",
       "    <tr>\n",
       "      <th>3</th>\n",
       "      <td>180591712</td>\n",
       "      <td>13B</td>\n",
       "      <td>150665358</td>\n",
       "      <td>Assault Offenses</td>\n",
       "      <td>Violent</td>\n",
       "      <td>5688</td>\n",
       "      <td>166275615</td>\n",
       "      <td>41.0</td>\n",
       "      <td>ALLEN</td>\n",
       "    </tr>\n",
       "    <tr>\n",
       "      <th>6</th>\n",
       "      <td>180591754</td>\n",
       "      <td>13B</td>\n",
       "      <td>150665393</td>\n",
       "      <td>Assault Offenses</td>\n",
       "      <td>Violent</td>\n",
       "      <td>5688</td>\n",
       "      <td>166275659</td>\n",
       "      <td>13.0</td>\n",
       "      <td>ALLEN</td>\n",
       "    </tr>\n",
       "    <tr>\n",
       "      <th>7</th>\n",
       "      <td>180591792</td>\n",
       "      <td>13B</td>\n",
       "      <td>150665426</td>\n",
       "      <td>Assault Offenses</td>\n",
       "      <td>Violent</td>\n",
       "      <td>5688</td>\n",
       "      <td>166275696</td>\n",
       "      <td>35.0</td>\n",
       "      <td>ALLEN</td>\n",
       "    </tr>\n",
       "  </tbody>\n",
       "</table>\n",
       "</div>"
      ],
      "text/plain": [
       "   offense_id offense_code  incident_id offense_category_name Crime_Type  \\\n",
       "1   180591717          13B    150665362      Assault Offenses    Violent   \n",
       "2   180591869          13C    150665492      Assault Offenses    Violent   \n",
       "3   180591712          13B    150665358      Assault Offenses    Violent   \n",
       "6   180591754          13B    150665393      Assault Offenses    Violent   \n",
       "7   180591792          13B    150665426      Assault Offenses    Violent   \n",
       "\n",
       "   agency_id  victim_id  age_num county_name  \n",
       "1       5688  166275620     61.0       ALLEN  \n",
       "2       5688  166275780     43.0       ALLEN  \n",
       "3       5688  166275615     41.0       ALLEN  \n",
       "6       5688  166275659     13.0       ALLEN  \n",
       "7       5688  166275696     35.0       ALLEN  "
      ]
     },
     "execution_count": 220,
     "metadata": {},
     "output_type": "execute_result"
    }
   ],
   "source": [
    "final_violent.head()"
   ]
  },
  {
   "cell_type": "code",
   "execution_count": 221,
   "metadata": {
    "id": "x4Iwh6I549UQ"
   },
   "outputs": [],
   "source": [
    "violent = final_violent.groupby(['county_name']).size().reset_index(name='counts')"
   ]
  },
  {
   "cell_type": "code",
   "execution_count": 222,
   "metadata": {
    "id": "dUJMVtRG5bmf"
   },
   "outputs": [],
   "source": [
    "property = final_property.groupby(['county_name']).size().reset_index(name='counts')"
   ]
  },
  {
   "cell_type": "code",
   "execution_count": 223,
   "metadata": {
    "id": "M6e-AQ8H5h1r"
   },
   "outputs": [],
   "source": [
    "fraud = final_fraud.groupby(['county_name']).size().reset_index(name='counts')"
   ]
  },
  {
   "cell_type": "code",
   "execution_count": 224,
   "metadata": {
    "id": "PLf3TAs_5rdf"
   },
   "outputs": [],
   "source": [
    "violent_final = population.merge(violent,on = 'county_name', how = 'left')"
   ]
  },
  {
   "cell_type": "code",
   "execution_count": 225,
   "metadata": {
    "colab": {
     "base_uri": "https://localhost:8080/",
     "height": 300
    },
    "id": "0__-Jbx8A4Iw",
    "outputId": "239eca36-e066-4166-b960-1869be408854"
   },
   "outputs": [
    {
     "data": {
      "text/html": [
       "<div>\n",
       "<style scoped>\n",
       "    .dataframe tbody tr th:only-of-type {\n",
       "        vertical-align: middle;\n",
       "    }\n",
       "\n",
       "    .dataframe tbody tr th {\n",
       "        vertical-align: top;\n",
       "    }\n",
       "\n",
       "    .dataframe thead th {\n",
       "        text-align: right;\n",
       "    }\n",
       "</style>\n",
       "<table border=\"1\" class=\"dataframe\">\n",
       "  <thead>\n",
       "    <tr style=\"text-align: right;\">\n",
       "      <th></th>\n",
       "      <th>county_name</th>\n",
       "      <th>Total:</th>\n",
       "      <th>55+</th>\n",
       "      <th>counts</th>\n",
       "    </tr>\n",
       "  </thead>\n",
       "  <tbody>\n",
       "    <tr>\n",
       "      <th>0</th>\n",
       "      <td>BOONE</td>\n",
       "      <td>69,839</td>\n",
       "      <td>18305</td>\n",
       "      <td>433.0</td>\n",
       "    </tr>\n",
       "    <tr>\n",
       "      <th>1</th>\n",
       "      <td>HAMILTON</td>\n",
       "      <td>341,616</td>\n",
       "      <td>83101</td>\n",
       "      <td>1765.0</td>\n",
       "    </tr>\n",
       "    <tr>\n",
       "      <th>2</th>\n",
       "      <td>HANCOCK</td>\n",
       "      <td>78,616</td>\n",
       "      <td>23357</td>\n",
       "      <td>509.0</td>\n",
       "    </tr>\n",
       "    <tr>\n",
       "      <th>3</th>\n",
       "      <td>HENDRICKS</td>\n",
       "      <td>172,100</td>\n",
       "      <td>45241</td>\n",
       "      <td>1532.0</td>\n",
       "    </tr>\n",
       "    <tr>\n",
       "      <th>4</th>\n",
       "      <td>JOHNSON</td>\n",
       "      <td>159,739</td>\n",
       "      <td>42987</td>\n",
       "      <td>1103.0</td>\n",
       "    </tr>\n",
       "    <tr>\n",
       "      <th>5</th>\n",
       "      <td>MARION</td>\n",
       "      <td>969,542</td>\n",
       "      <td>237183</td>\n",
       "      <td>27719.0</td>\n",
       "    </tr>\n",
       "    <tr>\n",
       "      <th>6</th>\n",
       "      <td>MORGAN</td>\n",
       "      <td>71,394</td>\n",
       "      <td>22957</td>\n",
       "      <td>NaN</td>\n",
       "    </tr>\n",
       "    <tr>\n",
       "      <th>7</th>\n",
       "      <td>SHELBY</td>\n",
       "      <td>44,825</td>\n",
       "      <td>14273</td>\n",
       "      <td>446.0</td>\n",
       "    </tr>\n",
       "  </tbody>\n",
       "</table>\n",
       "</div>"
      ],
      "text/plain": [
       "  county_name   Total:     55+   counts\n",
       "0       BOONE   69,839   18305    433.0\n",
       "1    HAMILTON  341,616   83101   1765.0\n",
       "2     HANCOCK   78,616   23357    509.0\n",
       "3   HENDRICKS  172,100   45241   1532.0\n",
       "4     JOHNSON  159,739   42987   1103.0\n",
       "5      MARION  969,542  237183  27719.0\n",
       "6      MORGAN   71,394   22957      NaN\n",
       "7      SHELBY   44,825   14273    446.0"
      ]
     },
     "execution_count": 225,
     "metadata": {},
     "output_type": "execute_result"
    }
   ],
   "source": [
    "violent_final"
   ]
  },
  {
   "cell_type": "code",
   "execution_count": 226,
   "metadata": {
    "id": "77HLwZ0fDD10"
   },
   "outputs": [],
   "source": [
    "violent_final[\"55+\"] = violent_final['55+'].replace(',','', regex=True)"
   ]
  },
  {
   "cell_type": "code",
   "execution_count": 227,
   "metadata": {
    "id": "tC336HYSBVYz"
   },
   "outputs": [],
   "source": [
    "violent_final[\"55+\"] = pd.to_numeric(violent_final[\"55+\"])"
   ]
  },
  {
   "cell_type": "code",
   "execution_count": 228,
   "metadata": {
    "id": "n3W3s_7H5rb3"
   },
   "outputs": [],
   "source": [
    "violent_final['stat'] = (violent_final['counts']/violent_final['55+'])*1000"
   ]
  },
  {
   "cell_type": "code",
   "execution_count": 229,
   "metadata": {
    "colab": {
     "base_uri": "https://localhost:8080/",
     "height": 300
    },
    "id": "ANAAYloQ5rZ5",
    "outputId": "63775e33-cec8-45fc-8386-b6fe3b5a26ff"
   },
   "outputs": [
    {
     "data": {
      "text/html": [
       "<div>\n",
       "<style scoped>\n",
       "    .dataframe tbody tr th:only-of-type {\n",
       "        vertical-align: middle;\n",
       "    }\n",
       "\n",
       "    .dataframe tbody tr th {\n",
       "        vertical-align: top;\n",
       "    }\n",
       "\n",
       "    .dataframe thead th {\n",
       "        text-align: right;\n",
       "    }\n",
       "</style>\n",
       "<table border=\"1\" class=\"dataframe\">\n",
       "  <thead>\n",
       "    <tr style=\"text-align: right;\">\n",
       "      <th></th>\n",
       "      <th>county_name</th>\n",
       "      <th>Total:</th>\n",
       "      <th>55+</th>\n",
       "      <th>counts</th>\n",
       "      <th>stat</th>\n",
       "    </tr>\n",
       "  </thead>\n",
       "  <tbody>\n",
       "    <tr>\n",
       "      <th>0</th>\n",
       "      <td>BOONE</td>\n",
       "      <td>69,839</td>\n",
       "      <td>18305</td>\n",
       "      <td>433.0</td>\n",
       "      <td>23.654739</td>\n",
       "    </tr>\n",
       "    <tr>\n",
       "      <th>1</th>\n",
       "      <td>HAMILTON</td>\n",
       "      <td>341,616</td>\n",
       "      <td>83101</td>\n",
       "      <td>1765.0</td>\n",
       "      <td>21.239215</td>\n",
       "    </tr>\n",
       "    <tr>\n",
       "      <th>2</th>\n",
       "      <td>HANCOCK</td>\n",
       "      <td>78,616</td>\n",
       "      <td>23357</td>\n",
       "      <td>509.0</td>\n",
       "      <td>21.792182</td>\n",
       "    </tr>\n",
       "    <tr>\n",
       "      <th>3</th>\n",
       "      <td>HENDRICKS</td>\n",
       "      <td>172,100</td>\n",
       "      <td>45241</td>\n",
       "      <td>1532.0</td>\n",
       "      <td>33.863089</td>\n",
       "    </tr>\n",
       "    <tr>\n",
       "      <th>4</th>\n",
       "      <td>JOHNSON</td>\n",
       "      <td>159,739</td>\n",
       "      <td>42987</td>\n",
       "      <td>1103.0</td>\n",
       "      <td>25.658920</td>\n",
       "    </tr>\n",
       "    <tr>\n",
       "      <th>5</th>\n",
       "      <td>MARION</td>\n",
       "      <td>969,542</td>\n",
       "      <td>237183</td>\n",
       "      <td>27719.0</td>\n",
       "      <td>116.867566</td>\n",
       "    </tr>\n",
       "    <tr>\n",
       "      <th>6</th>\n",
       "      <td>MORGAN</td>\n",
       "      <td>71,394</td>\n",
       "      <td>22957</td>\n",
       "      <td>NaN</td>\n",
       "      <td>NaN</td>\n",
       "    </tr>\n",
       "    <tr>\n",
       "      <th>7</th>\n",
       "      <td>SHELBY</td>\n",
       "      <td>44,825</td>\n",
       "      <td>14273</td>\n",
       "      <td>446.0</td>\n",
       "      <td>31.247811</td>\n",
       "    </tr>\n",
       "  </tbody>\n",
       "</table>\n",
       "</div>"
      ],
      "text/plain": [
       "  county_name   Total:     55+   counts        stat\n",
       "0       BOONE   69,839   18305    433.0   23.654739\n",
       "1    HAMILTON  341,616   83101   1765.0   21.239215\n",
       "2     HANCOCK   78,616   23357    509.0   21.792182\n",
       "3   HENDRICKS  172,100   45241   1532.0   33.863089\n",
       "4     JOHNSON  159,739   42987   1103.0   25.658920\n",
       "5      MARION  969,542  237183  27719.0  116.867566\n",
       "6      MORGAN   71,394   22957      NaN         NaN\n",
       "7      SHELBY   44,825   14273    446.0   31.247811"
      ]
     },
     "execution_count": 229,
     "metadata": {},
     "output_type": "execute_result"
    }
   ],
   "source": [
    "violent_final"
   ]
  },
  {
   "cell_type": "code",
   "execution_count": 230,
   "metadata": {
    "id": "M8cj0ncC5rX2"
   },
   "outputs": [],
   "source": [
    "violent_final.to_csv('C:/NIBRS/2022/Violent_crime_2022.csv')"
   ]
  },
  {
   "cell_type": "code",
   "execution_count": 231,
   "metadata": {
    "id": "Px6aTN8Z5rWD"
   },
   "outputs": [],
   "source": [
    "property_final = population.merge(property,on = 'county_name', how = 'left')"
   ]
  },
  {
   "cell_type": "code",
   "execution_count": 232,
   "metadata": {
    "colab": {
     "base_uri": "https://localhost:8080/",
     "height": 300
    },
    "id": "L3UgVIF1Ggdy",
    "outputId": "cb74a1f2-5574-45d2-9e4b-91f90025b8c0"
   },
   "outputs": [
    {
     "data": {
      "text/html": [
       "<div>\n",
       "<style scoped>\n",
       "    .dataframe tbody tr th:only-of-type {\n",
       "        vertical-align: middle;\n",
       "    }\n",
       "\n",
       "    .dataframe tbody tr th {\n",
       "        vertical-align: top;\n",
       "    }\n",
       "\n",
       "    .dataframe thead th {\n",
       "        text-align: right;\n",
       "    }\n",
       "</style>\n",
       "<table border=\"1\" class=\"dataframe\">\n",
       "  <thead>\n",
       "    <tr style=\"text-align: right;\">\n",
       "      <th></th>\n",
       "      <th>county_name</th>\n",
       "      <th>Total:</th>\n",
       "      <th>55+</th>\n",
       "      <th>counts</th>\n",
       "    </tr>\n",
       "  </thead>\n",
       "  <tbody>\n",
       "    <tr>\n",
       "      <th>0</th>\n",
       "      <td>BOONE</td>\n",
       "      <td>69,839</td>\n",
       "      <td>18305</td>\n",
       "      <td>572.0</td>\n",
       "    </tr>\n",
       "    <tr>\n",
       "      <th>1</th>\n",
       "      <td>HAMILTON</td>\n",
       "      <td>341,616</td>\n",
       "      <td>83101</td>\n",
       "      <td>4145.0</td>\n",
       "    </tr>\n",
       "    <tr>\n",
       "      <th>2</th>\n",
       "      <td>HANCOCK</td>\n",
       "      <td>78,616</td>\n",
       "      <td>23357</td>\n",
       "      <td>826.0</td>\n",
       "    </tr>\n",
       "    <tr>\n",
       "      <th>3</th>\n",
       "      <td>HENDRICKS</td>\n",
       "      <td>172,100</td>\n",
       "      <td>45241</td>\n",
       "      <td>2637.0</td>\n",
       "    </tr>\n",
       "    <tr>\n",
       "      <th>4</th>\n",
       "      <td>JOHNSON</td>\n",
       "      <td>159,739</td>\n",
       "      <td>42987</td>\n",
       "      <td>2757.0</td>\n",
       "    </tr>\n",
       "    <tr>\n",
       "      <th>5</th>\n",
       "      <td>MARION</td>\n",
       "      <td>969,542</td>\n",
       "      <td>237183</td>\n",
       "      <td>36620.0</td>\n",
       "    </tr>\n",
       "    <tr>\n",
       "      <th>6</th>\n",
       "      <td>MORGAN</td>\n",
       "      <td>71,394</td>\n",
       "      <td>22957</td>\n",
       "      <td>NaN</td>\n",
       "    </tr>\n",
       "    <tr>\n",
       "      <th>7</th>\n",
       "      <td>SHELBY</td>\n",
       "      <td>44,825</td>\n",
       "      <td>14273</td>\n",
       "      <td>572.0</td>\n",
       "    </tr>\n",
       "  </tbody>\n",
       "</table>\n",
       "</div>"
      ],
      "text/plain": [
       "  county_name   Total:     55+   counts\n",
       "0       BOONE   69,839   18305    572.0\n",
       "1    HAMILTON  341,616   83101   4145.0\n",
       "2     HANCOCK   78,616   23357    826.0\n",
       "3   HENDRICKS  172,100   45241   2637.0\n",
       "4     JOHNSON  159,739   42987   2757.0\n",
       "5      MARION  969,542  237183  36620.0\n",
       "6      MORGAN   71,394   22957      NaN\n",
       "7      SHELBY   44,825   14273    572.0"
      ]
     },
     "execution_count": 232,
     "metadata": {},
     "output_type": "execute_result"
    }
   ],
   "source": [
    "property_final"
   ]
  },
  {
   "cell_type": "code",
   "execution_count": 233,
   "metadata": {
    "id": "h9ax0zNUFBe9"
   },
   "outputs": [],
   "source": [
    "property_final[\"55+\"] = property_final['55+'].replace(',','', regex=True)"
   ]
  },
  {
   "cell_type": "code",
   "execution_count": 234,
   "metadata": {
    "id": "jQ15e_4EFBe-"
   },
   "outputs": [],
   "source": [
    "property_final[\"55+\"] = pd.to_numeric(property_final[\"55+\"])"
   ]
  },
  {
   "cell_type": "code",
   "execution_count": 235,
   "metadata": {
    "id": "u1_-kIkvFBe-"
   },
   "outputs": [],
   "source": [
    "property_final['stat'] = (property_final['counts']/property_final['55+'])*1000"
   ]
  },
  {
   "cell_type": "code",
   "execution_count": 236,
   "metadata": {
    "colab": {
     "base_uri": "https://localhost:8080/",
     "height": 300
    },
    "id": "jyY9qG0nFBe-",
    "outputId": "1cb399d3-c699-4737-fe16-b9b237026e32"
   },
   "outputs": [
    {
     "data": {
      "text/html": [
       "<div>\n",
       "<style scoped>\n",
       "    .dataframe tbody tr th:only-of-type {\n",
       "        vertical-align: middle;\n",
       "    }\n",
       "\n",
       "    .dataframe tbody tr th {\n",
       "        vertical-align: top;\n",
       "    }\n",
       "\n",
       "    .dataframe thead th {\n",
       "        text-align: right;\n",
       "    }\n",
       "</style>\n",
       "<table border=\"1\" class=\"dataframe\">\n",
       "  <thead>\n",
       "    <tr style=\"text-align: right;\">\n",
       "      <th></th>\n",
       "      <th>county_name</th>\n",
       "      <th>Total:</th>\n",
       "      <th>55+</th>\n",
       "      <th>counts</th>\n",
       "      <th>stat</th>\n",
       "    </tr>\n",
       "  </thead>\n",
       "  <tbody>\n",
       "    <tr>\n",
       "      <th>0</th>\n",
       "      <td>BOONE</td>\n",
       "      <td>69,839</td>\n",
       "      <td>18305</td>\n",
       "      <td>572.0</td>\n",
       "      <td>31.248293</td>\n",
       "    </tr>\n",
       "    <tr>\n",
       "      <th>1</th>\n",
       "      <td>HAMILTON</td>\n",
       "      <td>341,616</td>\n",
       "      <td>83101</td>\n",
       "      <td>4145.0</td>\n",
       "      <td>49.879063</td>\n",
       "    </tr>\n",
       "    <tr>\n",
       "      <th>2</th>\n",
       "      <td>HANCOCK</td>\n",
       "      <td>78,616</td>\n",
       "      <td>23357</td>\n",
       "      <td>826.0</td>\n",
       "      <td>35.364131</td>\n",
       "    </tr>\n",
       "    <tr>\n",
       "      <th>3</th>\n",
       "      <td>HENDRICKS</td>\n",
       "      <td>172,100</td>\n",
       "      <td>45241</td>\n",
       "      <td>2637.0</td>\n",
       "      <td>58.287836</td>\n",
       "    </tr>\n",
       "    <tr>\n",
       "      <th>4</th>\n",
       "      <td>JOHNSON</td>\n",
       "      <td>159,739</td>\n",
       "      <td>42987</td>\n",
       "      <td>2757.0</td>\n",
       "      <td>64.135669</td>\n",
       "    </tr>\n",
       "    <tr>\n",
       "      <th>5</th>\n",
       "      <td>MARION</td>\n",
       "      <td>969,542</td>\n",
       "      <td>237183</td>\n",
       "      <td>36620.0</td>\n",
       "      <td>154.395551</td>\n",
       "    </tr>\n",
       "    <tr>\n",
       "      <th>6</th>\n",
       "      <td>MORGAN</td>\n",
       "      <td>71,394</td>\n",
       "      <td>22957</td>\n",
       "      <td>NaN</td>\n",
       "      <td>NaN</td>\n",
       "    </tr>\n",
       "    <tr>\n",
       "      <th>7</th>\n",
       "      <td>SHELBY</td>\n",
       "      <td>44,825</td>\n",
       "      <td>14273</td>\n",
       "      <td>572.0</td>\n",
       "      <td>40.075667</td>\n",
       "    </tr>\n",
       "  </tbody>\n",
       "</table>\n",
       "</div>"
      ],
      "text/plain": [
       "  county_name   Total:     55+   counts        stat\n",
       "0       BOONE   69,839   18305    572.0   31.248293\n",
       "1    HAMILTON  341,616   83101   4145.0   49.879063\n",
       "2     HANCOCK   78,616   23357    826.0   35.364131\n",
       "3   HENDRICKS  172,100   45241   2637.0   58.287836\n",
       "4     JOHNSON  159,739   42987   2757.0   64.135669\n",
       "5      MARION  969,542  237183  36620.0  154.395551\n",
       "6      MORGAN   71,394   22957      NaN         NaN\n",
       "7      SHELBY   44,825   14273    572.0   40.075667"
      ]
     },
     "execution_count": 236,
     "metadata": {},
     "output_type": "execute_result"
    }
   ],
   "source": [
    "property_final"
   ]
  },
  {
   "cell_type": "code",
   "execution_count": 237,
   "metadata": {
    "id": "XqzOrhLWFBe-"
   },
   "outputs": [],
   "source": [
    "property_final.to_csv('C:/NIBRS/2022/Property_crime_2022.csv')"
   ]
  },
  {
   "cell_type": "code",
   "execution_count": 238,
   "metadata": {
    "id": "Lz-uAfGtMkQu"
   },
   "outputs": [],
   "source": [
    "fraud_final = population.merge(fraud,on = 'county_name', how = 'left')"
   ]
  },
  {
   "cell_type": "code",
   "execution_count": 239,
   "metadata": {
    "colab": {
     "base_uri": "https://localhost:8080/",
     "height": 300
    },
    "id": "EAEqkKzEMkQu",
    "outputId": "509f206a-55f6-4dc0-e770-5bb818248832"
   },
   "outputs": [
    {
     "data": {
      "text/html": [
       "<div>\n",
       "<style scoped>\n",
       "    .dataframe tbody tr th:only-of-type {\n",
       "        vertical-align: middle;\n",
       "    }\n",
       "\n",
       "    .dataframe tbody tr th {\n",
       "        vertical-align: top;\n",
       "    }\n",
       "\n",
       "    .dataframe thead th {\n",
       "        text-align: right;\n",
       "    }\n",
       "</style>\n",
       "<table border=\"1\" class=\"dataframe\">\n",
       "  <thead>\n",
       "    <tr style=\"text-align: right;\">\n",
       "      <th></th>\n",
       "      <th>county_name</th>\n",
       "      <th>Total:</th>\n",
       "      <th>55+</th>\n",
       "      <th>counts</th>\n",
       "    </tr>\n",
       "  </thead>\n",
       "  <tbody>\n",
       "    <tr>\n",
       "      <th>0</th>\n",
       "      <td>BOONE</td>\n",
       "      <td>69,839</td>\n",
       "      <td>18305</td>\n",
       "      <td>347.0</td>\n",
       "    </tr>\n",
       "    <tr>\n",
       "      <th>1</th>\n",
       "      <td>HAMILTON</td>\n",
       "      <td>341,616</td>\n",
       "      <td>83101</td>\n",
       "      <td>1468.0</td>\n",
       "    </tr>\n",
       "    <tr>\n",
       "      <th>2</th>\n",
       "      <td>HANCOCK</td>\n",
       "      <td>78,616</td>\n",
       "      <td>23357</td>\n",
       "      <td>337.0</td>\n",
       "    </tr>\n",
       "    <tr>\n",
       "      <th>3</th>\n",
       "      <td>HENDRICKS</td>\n",
       "      <td>172,100</td>\n",
       "      <td>45241</td>\n",
       "      <td>786.0</td>\n",
       "    </tr>\n",
       "    <tr>\n",
       "      <th>4</th>\n",
       "      <td>JOHNSON</td>\n",
       "      <td>159,739</td>\n",
       "      <td>42987</td>\n",
       "      <td>640.0</td>\n",
       "    </tr>\n",
       "    <tr>\n",
       "      <th>5</th>\n",
       "      <td>MARION</td>\n",
       "      <td>969,542</td>\n",
       "      <td>237183</td>\n",
       "      <td>6577.0</td>\n",
       "    </tr>\n",
       "    <tr>\n",
       "      <th>6</th>\n",
       "      <td>MORGAN</td>\n",
       "      <td>71,394</td>\n",
       "      <td>22957</td>\n",
       "      <td>NaN</td>\n",
       "    </tr>\n",
       "    <tr>\n",
       "      <th>7</th>\n",
       "      <td>SHELBY</td>\n",
       "      <td>44,825</td>\n",
       "      <td>14273</td>\n",
       "      <td>202.0</td>\n",
       "    </tr>\n",
       "  </tbody>\n",
       "</table>\n",
       "</div>"
      ],
      "text/plain": [
       "  county_name   Total:     55+  counts\n",
       "0       BOONE   69,839   18305   347.0\n",
       "1    HAMILTON  341,616   83101  1468.0\n",
       "2     HANCOCK   78,616   23357   337.0\n",
       "3   HENDRICKS  172,100   45241   786.0\n",
       "4     JOHNSON  159,739   42987   640.0\n",
       "5      MARION  969,542  237183  6577.0\n",
       "6      MORGAN   71,394   22957     NaN\n",
       "7      SHELBY   44,825   14273   202.0"
      ]
     },
     "execution_count": 239,
     "metadata": {},
     "output_type": "execute_result"
    }
   ],
   "source": [
    "fraud_final"
   ]
  },
  {
   "cell_type": "code",
   "execution_count": 240,
   "metadata": {
    "id": "Xi3DwmyVMkQv"
   },
   "outputs": [],
   "source": [
    "fraud_final[\"55+\"] = fraud_final['55+'].replace(',','', regex=True)"
   ]
  },
  {
   "cell_type": "code",
   "execution_count": 241,
   "metadata": {
    "id": "NU1DsbcKMkQv"
   },
   "outputs": [],
   "source": [
    "fraud_final[\"55+\"] = pd.to_numeric(fraud_final[\"55+\"])"
   ]
  },
  {
   "cell_type": "code",
   "execution_count": 242,
   "metadata": {
    "id": "1izOMTwDMkQv"
   },
   "outputs": [],
   "source": [
    "fraud_final['stat'] = (fraud_final['counts']/fraud_final['55+'])*1000"
   ]
  },
  {
   "cell_type": "code",
   "execution_count": 243,
   "metadata": {
    "colab": {
     "base_uri": "https://localhost:8080/",
     "height": 300
    },
    "id": "-LsVDuApMkQv",
    "outputId": "18792c80-f8e5-4c72-d854-16afb3bcfc6c"
   },
   "outputs": [
    {
     "data": {
      "text/html": [
       "<div>\n",
       "<style scoped>\n",
       "    .dataframe tbody tr th:only-of-type {\n",
       "        vertical-align: middle;\n",
       "    }\n",
       "\n",
       "    .dataframe tbody tr th {\n",
       "        vertical-align: top;\n",
       "    }\n",
       "\n",
       "    .dataframe thead th {\n",
       "        text-align: right;\n",
       "    }\n",
       "</style>\n",
       "<table border=\"1\" class=\"dataframe\">\n",
       "  <thead>\n",
       "    <tr style=\"text-align: right;\">\n",
       "      <th></th>\n",
       "      <th>county_name</th>\n",
       "      <th>Total:</th>\n",
       "      <th>55+</th>\n",
       "      <th>counts</th>\n",
       "      <th>stat</th>\n",
       "    </tr>\n",
       "  </thead>\n",
       "  <tbody>\n",
       "    <tr>\n",
       "      <th>0</th>\n",
       "      <td>BOONE</td>\n",
       "      <td>69,839</td>\n",
       "      <td>18305</td>\n",
       "      <td>347.0</td>\n",
       "      <td>18.956569</td>\n",
       "    </tr>\n",
       "    <tr>\n",
       "      <th>1</th>\n",
       "      <td>HAMILTON</td>\n",
       "      <td>341,616</td>\n",
       "      <td>83101</td>\n",
       "      <td>1468.0</td>\n",
       "      <td>17.665251</td>\n",
       "    </tr>\n",
       "    <tr>\n",
       "      <th>2</th>\n",
       "      <td>HANCOCK</td>\n",
       "      <td>78,616</td>\n",
       "      <td>23357</td>\n",
       "      <td>337.0</td>\n",
       "      <td>14.428223</td>\n",
       "    </tr>\n",
       "    <tr>\n",
       "      <th>3</th>\n",
       "      <td>HENDRICKS</td>\n",
       "      <td>172,100</td>\n",
       "      <td>45241</td>\n",
       "      <td>786.0</td>\n",
       "      <td>17.373621</td>\n",
       "    </tr>\n",
       "    <tr>\n",
       "      <th>4</th>\n",
       "      <td>JOHNSON</td>\n",
       "      <td>159,739</td>\n",
       "      <td>42987</td>\n",
       "      <td>640.0</td>\n",
       "      <td>14.888222</td>\n",
       "    </tr>\n",
       "    <tr>\n",
       "      <th>5</th>\n",
       "      <td>MARION</td>\n",
       "      <td>969,542</td>\n",
       "      <td>237183</td>\n",
       "      <td>6577.0</td>\n",
       "      <td>27.729643</td>\n",
       "    </tr>\n",
       "    <tr>\n",
       "      <th>6</th>\n",
       "      <td>MORGAN</td>\n",
       "      <td>71,394</td>\n",
       "      <td>22957</td>\n",
       "      <td>NaN</td>\n",
       "      <td>NaN</td>\n",
       "    </tr>\n",
       "    <tr>\n",
       "      <th>7</th>\n",
       "      <td>SHELBY</td>\n",
       "      <td>44,825</td>\n",
       "      <td>14273</td>\n",
       "      <td>202.0</td>\n",
       "      <td>14.152596</td>\n",
       "    </tr>\n",
       "  </tbody>\n",
       "</table>\n",
       "</div>"
      ],
      "text/plain": [
       "  county_name   Total:     55+  counts       stat\n",
       "0       BOONE   69,839   18305   347.0  18.956569\n",
       "1    HAMILTON  341,616   83101  1468.0  17.665251\n",
       "2     HANCOCK   78,616   23357   337.0  14.428223\n",
       "3   HENDRICKS  172,100   45241   786.0  17.373621\n",
       "4     JOHNSON  159,739   42987   640.0  14.888222\n",
       "5      MARION  969,542  237183  6577.0  27.729643\n",
       "6      MORGAN   71,394   22957     NaN        NaN\n",
       "7      SHELBY   44,825   14273   202.0  14.152596"
      ]
     },
     "execution_count": 243,
     "metadata": {},
     "output_type": "execute_result"
    }
   ],
   "source": [
    "fraud_final"
   ]
  },
  {
   "cell_type": "code",
   "execution_count": 244,
   "metadata": {
    "id": "0WV-fbRUMkQv"
   },
   "outputs": [],
   "source": [
    "fraud_final.to_csv('C:/NIBRS/2022/Fraud_crime_2022.csv')"
   ]
  },
  {
   "cell_type": "code",
   "execution_count": null,
   "metadata": {
    "id": "XVimREO9L9qP"
   },
   "outputs": [],
   "source": []
  },
  {
   "cell_type": "code",
   "execution_count": null,
   "metadata": {
    "id": "YDiUaM-cL9oC"
   },
   "outputs": [],
   "source": []
  },
  {
   "cell_type": "code",
   "execution_count": null,
   "metadata": {
    "id": "4J-LGUm5L9lw"
   },
   "outputs": [],
   "source": []
  },
  {
   "cell_type": "code",
   "execution_count": null,
   "metadata": {
    "id": "HOAqYGCHL9hA"
   },
   "outputs": [],
   "source": []
  }
 ],
 "metadata": {
  "colab": {
   "provenance": []
  },
  "kernelspec": {
   "display_name": "Python 3 (ipykernel)",
   "language": "python",
   "name": "python3"
  },
  "language_info": {
   "codemirror_mode": {
    "name": "ipython",
    "version": 3
   },
   "file_extension": ".py",
   "mimetype": "text/x-python",
   "name": "python",
   "nbconvert_exporter": "python",
   "pygments_lexer": "ipython3",
   "version": "3.9.16"
  }
 },
 "nbformat": 4,
 "nbformat_minor": 1
}
